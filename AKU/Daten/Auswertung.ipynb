{
 "cells": [
  {
   "cell_type": "code",
   "execution_count": 1,
   "metadata": {},
   "outputs": [
    {
     "name": "stdout",
     "output_type": "stream",
     "text": [
      "Using matplotlib backend: TkAgg\n",
      "Populating the interactive namespace from numpy and matplotlib\n"
     ]
    }
   ],
   "source": [
    "    %pylab\n",
    "%matplotlib inline\n",
    "import scipy.stats"
   ]
  },
  {
   "cell_type": "code",
   "execution_count": 2,
   "metadata": {},
   "outputs": [],
   "source": [
    "pylab.rcParams['figure.figsize'] = (10, 6)"
   ]
  },
  {
   "cell_type": "markdown",
   "metadata": {},
   "source": [
    "### Kupfer"
   ]
  },
  {
   "cell_type": "code",
   "execution_count": 3,
   "metadata": {},
   "outputs": [],
   "source": [
    "Cu1 = [767 - 35, 1612 - 84, 2366 - 168, 3154 - 168, 3938 - 172, 4718 - 172]\n",
    "Cu2 = [2380 - 1900, 2380 - 1130, 2380 - 300, 3220 - 370]\n",
    "Cu3 = [3590 - 2360, 3590 - 1570, 3590 - 770, 3590 - 20]"
   ]
  },
  {
   "cell_type": "code",
   "execution_count": 4,
   "metadata": {},
   "outputs": [],
   "source": [
    "diff(Cu1)\n",
    "diff(Cu2)\n",
    "diff(Cu3)\n",
    "dCu = concatenate([diff(Cu1), diff(Cu2), diff(Cu3)])"
   ]
  },
  {
   "cell_type": "code",
   "execution_count": 5,
   "metadata": {},
   "outputs": [
    {
     "data": {
      "text/plain": [
       "[<matplotlib.lines.Line2D at 0x7f6eba5c8630>]"
      ]
     },
     "execution_count": 5,
     "metadata": {},
     "output_type": "execute_result"
    },
    {
     "data": {
      "image/png": "[encoded data removed]",
      "text/plain": [
       "<matplotlib.figure.Figure at 0x7f6edaf7b5f8>"
      ]
     },
     "metadata": {},
     "output_type": "display_data"
    }
   ],
   "source": [
    "plt.plot(zeros_like(dCu), dCu, 'o')"
   ]
  },
  {
   "cell_type": "code",
   "execution_count": 6,
   "metadata": {},
   "outputs": [
    {
     "name": "stdout",
     "output_type": "stream",
     "text": [
      "774.909091 +- 40.292566\n"
     ]
    }
   ],
   "source": [
    "TCu = mean(dCu); err_TCu = std(dCu, ddof=1)\n",
    "print(f'{TCu:f} +- {err_TCu:f}')"
   ]
  },
  {
   "cell_type": "code",
   "execution_count": 7,
   "metadata": {},
   "outputs": [
    {
     "name": "stdout",
     "output_type": "stream",
     "text": [
      "3866.259972 +- 201.032016\n"
     ]
    }
   ],
   "source": [
    "lCu = 1.498 # m\n",
    "cCu = 2 * lCu / TCu * 1e6 # millisekunden in sekunden\n",
    "err_cCu = 2 * lCu / TCu**2 * err_TCu * 1e6\n",
    "print(f'{cCu:f} +- {err_cCu:f}')"
   ]
  },
  {
   "cell_type": "markdown",
   "metadata": {},
   "source": [
    "CRC Handbook S. 14-41"
   ]
  },
  {
   "cell_type": "markdown",
   "metadata": {},
   "source": [
    "### Plastik"
   ]
  },
  {
   "cell_type": "code",
   "execution_count": 8,
   "metadata": {},
   "outputs": [],
   "source": [
    "P1 = [7400, 6160, 4760, 3440]\n",
    "P2 = [7440, 6160, 4760, 3440]\n",
    "P3 = [7400, 6120, 4840, 3560]"
   ]
  },
  {
   "cell_type": "code",
   "execution_count": 9,
   "metadata": {},
   "outputs": [],
   "source": [
    "diff(P1)\n",
    "diff(P2)\n",
    "diff(P3)\n",
    "dP = abs(concatenate([diff(P1), diff(P2), diff(P3)]))"
   ]
  },
  {
   "cell_type": "code",
   "execution_count": 10,
   "metadata": {},
   "outputs": [
    {
     "data": {
      "text/plain": [
       "[<matplotlib.lines.Line2D at 0x7f6eba4a2ac8>]"
      ]
     },
     "execution_count": 10,
     "metadata": {},
     "output_type": "execute_result"
    },
    {
     "data": {
      "image/png": "[encoded data removed]",
      "text/plain": [
       "<matplotlib.figure.Figure at 0x7f6eba5a03c8>"
      ]
     },
     "metadata": {},
     "output_type": "display_data"
    }
   ],
   "source": [
    "plt.plot(zeros_like(dP), dP, 'o')"
   ]
  },
  {
   "cell_type": "code",
   "execution_count": 11,
   "metadata": {},
   "outputs": [
    {
     "name": "stdout",
     "output_type": "stream",
     "text": [
      "1311.111111 +- 55.777335\n"
     ]
    }
   ],
   "source": [
    "TP = mean(dP); err_TP = std(dP, ddof=1)\n",
    "print(f'{TP:f} +- {err_TP:f}')"
   ]
  },
  {
   "cell_type": "code",
   "execution_count": 12,
   "metadata": {},
   "outputs": [
    {
     "name": "stdout",
     "output_type": "stream",
     "text": [
      "1562.033898 +- 66.452101\n"
     ]
    }
   ],
   "source": [
    "lP = 1.024 # m\n",
    "cP = 2 * lP / TP * 1e6 # millisekunden in sekunden\n",
    "err_cP = 2 * lP / TP**2 * err_TP * 1e6\n",
    "print(f'{cP:f} +- {err_cP:f}')"
   ]
  },
  {
   "cell_type": "markdown",
   "metadata": {},
   "source": [
    "### Aluminimium"
   ]
  },
  {
   "cell_type": "code",
   "execution_count": 13,
   "metadata": {},
   "outputs": [],
   "source": [
    "Al1 = [2280, 1710, 1070, 460]\n",
    "Al2 = [2260, 1690, 1070, 440]\n",
    "Al3 = [2270, 1700, 1050, 460]"
   ]
  },
  {
   "cell_type": "code",
   "execution_count": 14,
   "metadata": {},
   "outputs": [],
   "source": [
    "diff(Al1)\n",
    "diff(Al2)\n",
    "diff(Al3)\n",
    "dAl = abs(concatenate([diff(Al1), diff(Al2), diff(Al3)]))"
   ]
  },
  {
   "cell_type": "code",
   "execution_count": 15,
   "metadata": {},
   "outputs": [
    {
     "data": {
      "text/plain": [
       "[<matplotlib.lines.Line2D at 0x7f6eba45d6a0>]"
      ]
     },
     "execution_count": 15,
     "metadata": {},
     "output_type": "execute_result"
    },
    {
     "data": {
      "image/png": "[encoded data removed]",
      "text/plain": [
       "<matplotlib.figure.Figure at 0x7f6eba5480f0>"
      ]
     },
     "metadata": {},
     "output_type": "display_data"
    }
   ],
   "source": [
    "plt.plot(zeros_like(dAl), dAl, 'o')"
   ]
  },
  {
   "cell_type": "code",
   "execution_count": 16,
   "metadata": {},
   "outputs": [
    {
     "name": "stdout",
     "output_type": "stream",
     "text": [
      "605.555556 +- 31.666667\n"
     ]
    }
   ],
   "source": [
    "TAl = mean(dAl); err_TAl = std(dAl, ddof=1)\n",
    "print(f'{TAl:f} +- {err_TAl:f}')"
   ]
  },
  {
   "cell_type": "code",
   "execution_count": 17,
   "metadata": {},
   "outputs": [
    {
     "name": "stdout",
     "output_type": "stream",
     "text": [
      "4950.825688 +- 258.896389\n"
     ]
    }
   ],
   "source": [
    "lAl = 1.499 # m\n",
    "cAl = 2 * lAl / TAl * 1e6 # millisekunden in sekunden\n",
    "err_cAl = 2 * lAl / TAl**2 * err_TAl * 1e6\n",
    "print(f'{cAl:f} +- {err_cAl:f}')"
   ]
  },
  {
   "cell_type": "markdown",
   "metadata": {},
   "source": [
    "## Elasizitätsmodule"
   ]
  },
  {
   "cell_type": "markdown",
   "metadata": {},
   "source": [
    "$E = \\rho {c_\\mathrm{S}}^2$"
   ]
  },
  {
   "cell_type": "code",
   "execution_count": 18,
   "metadata": {},
   "outputs": [
    {
     "name": "stdout",
     "output_type": "stream",
     "text": [
      "133784297220.468521 +- 16470752378.437643\n"
     ]
    }
   ],
   "source": [
    "rhoCu, rhoAl, rhoP = 8.95e3, 2.7e3, 1.4e3\n",
    "err_rhoCu, err_rhoAl, err_rhoP = .05e3, .1e3, .2e3\n",
    "E_Cu = rhoCu * cCu**2\n",
    "err_E_Cu = sqrt((cCu * 2*rhoCu * err_rhoCu)**2 +\n",
    "                (rhoCu**2 * err_cCu)**2)\n",
    "print(f'{E_Cu:f} +- {err_E_Cu:f}') # kg^2 m^-5 s^-1\n"
   ]
  },
  {
   "cell_type": "code",
   "execution_count": 19,
   "metadata": {},
   "outputs": [
    {
     "name": "stdout",
     "output_type": "stream",
     "text": [
      "Cu: 133.784297 +- 13.912632 MPa\n",
      "Al: 66.178822 +- 6.921455 MPa\n",
      "P: 3.415930 +- 0.290641 MPa\n"
     ]
    }
   ],
   "source": [
    "for m in ['Cu', 'Al', 'P']:\n",
    "    rho, c, err_rho, err_c = \\\n",
    "        eval(f'rho{m}, c{m}, err_rho{m}, err_c{m}')\n",
    "    E = rho * c**2 * 1e-9 # GPa\n",
    "    # err_E = sqrt((c**2 * err_rho)**2 +\n",
    "    #              ((rho * 2*c * err_c))**2) * 1e-9\n",
    "    err_E = rho * 2*c * err_c * 1e-9\n",
    "    # (c**2 * err_rho) * 1e-6\n",
    "    # (rho * 2*c * err_c) * 1e-6\n",
    "    print(f'{m}: {E:f} +- {err_E:f} MPa') # kg^2 m^-5 s^-1\n",
    "    exec(f'E{m} = {E}; err_E{m} = {err_E}')"
   ]
  },
  {
   "cell_type": "code",
   "execution_count": null,
   "metadata": {},
   "outputs": [],
   "source": [
    "\n"
   ]
  },
  {
   "cell_type": "markdown",
   "metadata": {},
   "source": [
    "# Aufgabe 3"
   ]
  },
  {
   "cell_type": "code",
   "execution_count": 38,
   "metadata": {},
   "outputs": [],
   "source": [
    "f1 = 1001.5; err_f1 = 1.0\n",
    "f2 = 651.68; err_f2 = 0.03\n",
    "f3 = 1508.6; err_f3 = 0.3\n",
    "ERR_f = [.1, .01, .1]"
   ]
  },
  {
   "cell_type": "code",
   "execution_count": 21,
   "metadata": {},
   "outputs": [],
   "source": [
    "_, m1auf, m1ab = loadtxt('freq1.csv', delimiter=',', skiprows=1).T\n",
    "_, m2auf, m2ab = loadtxt('freq2.csv', delimiter=',', skiprows=1).T\n",
    "_, m3auf, m3ab = loadtxt('freq3.csv', delimiter=',', skiprows=1).T"
   ]
  },
  {
   "cell_type": "code",
   "execution_count": 22,
   "metadata": {},
   "outputs": [],
   "source": [
    "m1 = .5*m1auf + .5*m1ab\n",
    "m2 = .5*m2auf + .5*m2ab\n",
    "m3 = .5*m3auf + .5*m3ab"
   ]
  },
  {
   "cell_type": "code",
   "execution_count": 23,
   "metadata": {},
   "outputs": [
    {
     "data": {
      "text/plain": [
       "[<matplotlib.lines.Line2D at 0x7f6eba487b00>]"
      ]
     },
     "execution_count": 23,
     "metadata": {},
     "output_type": "execute_result"
    },
    {
     "data": {
      "image/png": "[encoded data removed]",
      "text/plain": [
       "<matplotlib.figure.Figure at 0x7f6eba487518>"
      ]
     },
     "metadata": {},
     "output_type": "display_data"
    }
   ],
   "source": [
    "plt.plot(m1auf, 'o')\n",
    "plt.plot(m1ab, 'o')"
   ]
  },
  {
   "cell_type": "code",
   "execution_count": 49,
   "metadata": {},
   "outputs": [
    {
     "data": {
      "text/plain": [
       "array([ 22.8,  39.9,  57. ,  74.4,  91.6,  22.8,  39.9,  57.7,  74.8,  92. ])"
      ]
     },
     "execution_count": 49,
     "metadata": {},
     "output_type": "execute_result"
    }
   ],
   "source": [
    "concatenate([m1ab, m1auf])"
   ]
  },
  {
   "cell_type": "code",
   "execution_count": 50,
   "metadata": {},
   "outputs": [],
   "source": [
    "a1, b1, _, _, err_a1 = scipy.stats.linregress(2*list(range(2, len(m1)+2)), concatenate([m1ab, m1auf]))\n",
    "a2, b2, _, _, err_a2 = scipy.stats.linregress(2*list(range(2, len(m2)+2)), concatenate([m2ab, m2auf]))\n",
    "a3, b3, _, _, err_a3 = scipy.stats.linregress(2*list(range(2, len(m3)+2)), concatenate([m3ab, m3auf]))"
   ]
  },
  {
   "cell_type": "code",
   "execution_count": 51,
   "metadata": {},
   "outputs": [
    {
     "data": {
      "text/plain": [
       "[<matplotlib.lines.Line2D at 0x7f6eba151b38>,\n",
       " <matplotlib.lines.Line2D at 0x7f6eba151cf8>,\n",
       " <matplotlib.lines.Line2D at 0x7f6eba151eb8>]"
      ]
     },
     "execution_count": 51,
     "metadata": {},
     "output_type": "execute_result"
    },
    {
     "data": {
      "image/png": "[encoded data removed]",
      "text/plain": [
       "<matplotlib.figure.Figure at 0x7f6eba47cd68>"
      ]
     },
     "metadata": {},
     "output_type": "display_data"
    }
   ],
   "source": [
    "plt.plot(2 + arange(len(m1)), m1, 'o')\n",
    "plt.plot(2 + arange(len(m2)), m2, 'o')\n",
    "plt.plot(2 + arange(len(m3)), m3, 'o')\n",
    "x = linspace(2, 7)\n",
    "plt.plot(x, transpose([a1*x + b1, a2*x + b2, a3*x + b3]))"
   ]
  },
  {
   "cell_type": "code",
   "execution_count": 52,
   "metadata": {},
   "outputs": [
    {
     "name": "stdout",
     "output_type": "stream",
     "text": [
      "17.27 +- 0.0531\t\t-11.79\n",
      "26.425 +- 0.119\t-15.56\n",
      "11.466 +- 0.0593\t-8.396\n"
     ]
    }
   ],
   "source": [
    "print(f'{a1:.5} +- {err_a1:.3}\\t\\t{b1:.4}')\n",
    "print(f'{a2:.5} +- {err_a2:.3}\\t{b2:.4}')\n",
    "print(f'{a3:.5} +- {err_a3:.3}\\t{b3:.4}')"
   ]
  },
  {
   "cell_type": "code",
   "execution_count": 53,
   "metadata": {},
   "outputs": [
    {
     "name": "stdout",
     "output_type": "stream",
     "text": [
      "34.54 +- 0.106\n",
      "52.85 +- 0.285\n",
      "22.9314 +- 0.119\n"
     ]
    }
   ],
   "source": [
    "print(f'{2*a1:.6} +- {2*err_a1:.3}')\n",
    "print(f'{2*a2:.6} +- {2*1.2*err_a2:.3}')\n",
    "print(f'{2*a3:.6} +- {2*err_a3:.3}')"
   ]
  },
  {
   "cell_type": "code",
   "execution_count": 58,
   "metadata": {},
   "outputs": [],
   "source": [
    "f = array([f1, f2, f3]); err_f = array([err_f1, err_f2, err_f3])\n",
    "l = 2*array([a1, a2, a3]); err_l = 2*array([err_a1, err_a2, err_a3])"
   ]
  },
  {
   "cell_type": "code",
   "execution_count": 59,
   "metadata": {},
   "outputs": [
    {
     "data": {
      "text/plain": [
       "array([ 345.9181    ,  344.41288   ,  345.94353143])"
      ]
     },
     "execution_count": 59,
     "metadata": {},
     "output_type": "execute_result"
    }
   ],
   "source": [
    "v = f*l * 1e-2\n",
    "v"
   ]
  },
  {
   "cell_type": "code",
   "execution_count": 60,
   "metadata": {},
   "outputs": [
    {
     "name": "stdout",
     "output_type": "stream",
     "text": [
      "[ 1.11811726  1.54853557  1.78913069]\n",
      "[ 1.06343079  1.5484544   1.78780759]\n",
      "[ 0.3454      0.015855    0.06879429]\n"
     ]
    }
   ],
   "source": [
    "err_v = sqrt((f*err_l * 1e-2)**2 + (err_f*l * 1e-2)**2)\n",
    "print(err_v)\n",
    "print(f*err_l * 1e-2)\n",
    "print(err_f*l * 1e-2)"
   ]
  },
  {
   "cell_type": "code",
   "execution_count": 61,
   "metadata": {},
   "outputs": [
    {
     "data": {
      "text/plain": [
       "(345.51284203281392, 0.69021961759704009, 0.024191182271005286)"
      ]
     },
     "execution_count": 61,
     "metadata": {},
     "output_type": "execute_result"
    }
   ],
   "source": [
    "c = sum(1/err_v**2 * v) / sum(1/err_v**2)\n",
    "err_c = sqrt(1/sum(1/err_v))\n",
    "ERR1_c = sum(1/err_v**2 * ERR_f * l*1e-2) / sum(1/err_v**2)\n",
    "c, err_c, ERR1_c"
   ]
  },
  {
   "cell_type": "code",
   "execution_count": null,
   "metadata": {},
   "outputs": [],
   "source": []
  },
  {
   "cell_type": "code",
   "execution_count": null,
   "metadata": {},
   "outputs": [],
   "source": []
  },
  {
   "cell_type": "code",
   "execution_count": null,
   "metadata": {},
   "outputs": [],
   "source": []
  }
 ],
 "metadata": {
  "kernelspec": {
   "display_name": "Python 3",
   "language": "python",
   "name": "python3"
  },
  "language_info": {
   "codemirror_mode": {
    "name": "ipython",
    "version": 3
   },
   "file_extension": ".py",
   "mimetype": "text/x-python",
   "name": "python",
   "nbconvert_exporter": "python",
   "pygments_lexer": "ipython3",
   "version": "3.6.3"
  }
 },
 "nbformat": 4,
 "nbformat_minor": 2
}
