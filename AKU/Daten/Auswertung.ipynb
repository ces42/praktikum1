{
 "cells": [
  {
   "cell_type": "code",
   "execution_count": 1,
   "metadata": {},
   "outputs": [
    {
     "name": "stdout",
     "output_type": "stream",
     "text": [
      "Populating the interactive namespace from numpy and matplotlib\n"
     ]
    },
    {
     "name": "stderr",
     "output_type": "stream",
     "text": [
      "/home/ca/.local/lib/python3.6/site-packages/IPython/core/magics/pylab.py:160: UserWarning: pylab import has clobbered these variables: ['radians', 'isnan', 'sqrt', 'log', 'exp', 'isinf', 'log1p', 'frexp', 'pi', 'sin', 'isfinite', 'cos', 'trunc', 'tan', 'fmod', 'copysign', 'modf', 'hypot', 'fabs', 'tanh', 'nan', 'sinh', 'floor', 'gamma', 'expm1', 'log2', 'e', 'cosh', 'degrees', 'isclose', 'inf', 'ceil', 'ldexp', 'log10']\n",
      "`%matplotlib` prevents importing * from pylab and numpy\n",
      "  \"\\n`%matplotlib` prevents importing * from pylab and numpy\"\n"
     ]
    }
   ],
   "source": [
    "%pylab qt5\n",
    "%matplotlib inline"
   ]
  },
  {
   "cell_type": "markdown",
   "metadata": {},
   "source": [
    "### Kupfer"
   ]
  },
  {
   "cell_type": "code",
   "execution_count": 2,
   "metadata": {},
   "outputs": [],
   "source": [
    "Cu1 = [767 - 35, 1612 - 84, 2366 - 168, 3154 - 168, 3938 - 172, 4718 - 172]\n",
    "Cu2 = [2380 - 1900, 2380 - 1130, 2380 - 300, 3220 - 370]\n",
    "Cu3 = [3590 - 2360, 3590 - 1570, 3590 - 770, 3590 - 20]"
   ]
  },
  {
   "cell_type": "code",
   "execution_count": 3,
   "metadata": {},
   "outputs": [
    {
     "data": {
      "text/plain": [
       "array([796, 670, 788, 780, 780])"
      ]
     },
     "execution_count": 3,
     "metadata": {},
     "output_type": "execute_result"
    },
    {
     "data": {
      "text/plain": [
       "array([770, 830, 770])"
      ]
     },
     "execution_count": 3,
     "metadata": {},
     "output_type": "execute_result"
    },
    {
     "data": {
      "text/plain": [
       "array([790, 800, 750])"
      ]
     },
     "execution_count": 3,
     "metadata": {},
     "output_type": "execute_result"
    }
   ],
   "source": [
    "diff(Cu1)\n",
    "diff(Cu2)\n",
    "diff(Cu3)\n",
    "dCu = concatenate([diff(Cu1), diff(Cu2), diff(Cu3)])"
   ]
  },
  {
   "cell_type": "code",
   "execution_count": 4,
   "metadata": {},
   "outputs": [
    {
     "data": {
      "text/plain": [
       "[<matplotlib.lines.Line2D at 0x7ff0ffd08cc0>]"
      ]
     },
     "execution_count": 4,
     "metadata": {},
     "output_type": "execute_result"
    },
    {
     "data": {
      "image/png": "[encoded data removed]",
      "text/plain": [
       "<matplotlib.figure.Figure at 0x7ff13c0cb978>"
      ]
     },
     "metadata": {},
     "output_type": "display_data"
    }
   ],
   "source": [
    "plt.plot(zeros_like(dCu), dCu, 'o')"
   ]
  },
  {
   "cell_type": "code",
   "execution_count": 5,
   "metadata": {},
   "outputs": [
    {
     "name": "stdout",
     "output_type": "stream",
     "text": [
      "774.909091 +- 40.292566\n"
     ]
    }
   ],
   "source": [
    "TCu = mean(dCu); err_TCu = std(dCu, ddof=1)\n",
    "print(f'{TCu:f} +- {err_TCu:f}')"
   ]
  },
  {
   "cell_type": "code",
   "execution_count": 6,
   "metadata": {},
   "outputs": [
    {
     "name": "stdout",
     "output_type": "stream",
     "text": [
      "3866.259972 +- 201.032016\n"
     ]
    }
   ],
   "source": [
    "lCu = 1.498 # m\n",
    "cCu = 2 * lCu / TCu * 1e6 # millisekunden in sekunden\n",
    "err_cCu = 2 * lCu / TCu**2 * err_TCu * 1e6\n",
    "print(f'{cCu:f} +- {err_cCu:f}')"
   ]
  },
  {
   "cell_type": "markdown",
   "metadata": {},
   "source": [
    "CRC Handbook S. 14-41"
   ]
  },
  {
   "cell_type": "markdown",
   "metadata": {},
   "source": [
    "### Plastik"
   ]
  },
  {
   "cell_type": "code",
   "execution_count": 7,
   "metadata": {},
   "outputs": [],
   "source": [
    "P1 = [7400, 6160, 4760, 3440]\n",
    "P2 = [7440, 6160, 4760, 3440]\n",
    "P3 = [7400, 6120, 4840, 3560]"
   ]
  },
  {
   "cell_type": "code",
   "execution_count": 8,
   "metadata": {},
   "outputs": [
    {
     "data": {
      "text/plain": [
       "array([-1240, -1400, -1320])"
      ]
     },
     "execution_count": 8,
     "metadata": {},
     "output_type": "execute_result"
    },
    {
     "data": {
      "text/plain": [
       "array([-1280, -1400, -1320])"
      ]
     },
     "execution_count": 8,
     "metadata": {},
     "output_type": "execute_result"
    },
    {
     "data": {
      "text/plain": [
       "array([-1280, -1280, -1280])"
      ]
     },
     "execution_count": 8,
     "metadata": {},
     "output_type": "execute_result"
    }
   ],
   "source": [
    "diff(P1)\n",
    "diff(P2)\n",
    "diff(P3)\n",
    "dP = abs(concatenate([diff(P1), diff(P2), diff(P3)]))"
   ]
  },
  {
   "cell_type": "code",
   "execution_count": 9,
   "metadata": {},
   "outputs": [
    {
     "data": {
      "text/plain": [
       "[<matplotlib.lines.Line2D at 0x7ff0ffc21e80>]"
      ]
     },
     "execution_count": 9,
     "metadata": {},
     "output_type": "execute_result"
    },
    {
     "data": {
      "image/png": "[encoded data removed]",
      "text/plain": [
       "<matplotlib.figure.Figure at 0x7ff0ffcad390>"
      ]
     },
     "metadata": {},
     "output_type": "display_data"
    }
   ],
   "source": [
    "plt.plot(zeros_like(dP), dP, 'o')"
   ]
  },
  {
   "cell_type": "code",
   "execution_count": 10,
   "metadata": {},
   "outputs": [
    {
     "name": "stdout",
     "output_type": "stream",
     "text": [
      "1311.111111 +- 55.777335\n"
     ]
    }
   ],
   "source": [
    "TP = mean(dP); err_TP = std(dP, ddof=1)\n",
    "print(f'{TP:f} +- {err_TP:f}')"
   ]
  },
  {
   "cell_type": "code",
   "execution_count": 11,
   "metadata": {},
   "outputs": [
    {
     "name": "stdout",
     "output_type": "stream",
     "text": [
      "1562.033898 +- 66.452101\n"
     ]
    }
   ],
   "source": [
    "lP = 1.024 # m\n",
    "cP = 2 * lP / TP * 1e6 # millisekunden in sekunden\n",
    "err_cP = 2 * lP / TP**2 * err_TP * 1e6\n",
    "print(f'{cP:f} +- {err_cP:f}')"
   ]
  },
  {
   "cell_type": "markdown",
   "metadata": {},
   "source": [
    "### Aluminimium"
   ]
  },
  {
   "cell_type": "code",
   "execution_count": 12,
   "metadata": {},
   "outputs": [],
   "source": [
    "Al1 = [2280, 1710, 1070, 460]\n",
    "Al2 = [2260, 1690, 1070, 440]\n",
    "Al3 = [2270, 1700, 1050, 460]"
   ]
  },
  {
   "cell_type": "code",
   "execution_count": 13,
   "metadata": {},
   "outputs": [
    {
     "data": {
      "text/plain": [
       "array([-570, -640, -610])"
      ]
     },
     "execution_count": 13,
     "metadata": {},
     "output_type": "execute_result"
    },
    {
     "data": {
      "text/plain": [
       "array([-570, -620, -630])"
      ]
     },
     "execution_count": 13,
     "metadata": {},
     "output_type": "execute_result"
    },
    {
     "data": {
      "text/plain": [
       "array([-570, -650, -590])"
      ]
     },
     "execution_count": 13,
     "metadata": {},
     "output_type": "execute_result"
    }
   ],
   "source": [
    "diff(Al1)\n",
    "diff(Al2)\n",
    "diff(Al3)\n",
    "dAl = abs(concatenate([diff(Al1), diff(Al2), diff(Al3)]))"
   ]
  },
  {
   "cell_type": "code",
   "execution_count": 14,
   "metadata": {},
   "outputs": [
    {
     "data": {
      "text/plain": [
       "[<matplotlib.lines.Line2D at 0x7ff0ffc0ef98>]"
      ]
     },
     "execution_count": 14,
     "metadata": {},
     "output_type": "execute_result"
    },
    {
     "data": {
      "image/png": "[encoded data removed]",
      "text/plain": [
       "<matplotlib.figure.Figure at 0x7ff0ffcdf828>"
      ]
     },
     "metadata": {},
     "output_type": "display_data"
    }
   ],
   "source": [
    "plt.plot(zeros_like(dAl), dAl, 'o')"
   ]
  },
  {
   "cell_type": "code",
   "execution_count": 15,
   "metadata": {},
   "outputs": [
    {
     "name": "stdout",
     "output_type": "stream",
     "text": [
      "605.555556 +- 31.666667\n"
     ]
    }
   ],
   "source": [
    "TAl = mean(dAl); err_TAl = std(dAl, ddof=1)\n",
    "print(f'{TAl:f} +- {err_TAl:f}')"
   ]
  },
  {
   "cell_type": "code",
   "execution_count": 16,
   "metadata": {},
   "outputs": [
    {
     "name": "stdout",
     "output_type": "stream",
     "text": [
      "4950.825688 +- 258.896389\n"
     ]
    }
   ],
   "source": [
    "lAl = 1.499 # m\n",
    "cAl = 2 * lAl / TAl * 1e6 # millisekunden in sekunden\n",
    "err_cAl = 2 * lAl / TAl**2 * err_TAl * 1e6\n",
    "print(f'{cAl:f} +- {err_cAl:f}')"
   ]
  },
  {
   "cell_type": "markdown",
   "metadata": {},
   "source": [
    "## Elasizitätsmodule"
   ]
  },
  {
   "cell_type": "markdown",
   "metadata": {},
   "source": [
    "$E = \\rho {c_\\mathrm{S}}^2$"
   ]
  },
  {
   "cell_type": "code",
   "execution_count": 41,
   "metadata": {},
   "outputs": [
    {
     "name": "stdout",
     "output_type": "stream",
     "text": [
      "133784297220.468521 +- 16470752378.437643\n"
     ]
    }
   ],
   "source": [
    "rhoCu, rhoAl, rhoP = 8.95e3, 2.7e3, 1.4e3\n",
    "err_rhoCu, err_rhoAl, err_rhoP = .05e3, .1e3, .2e3\n",
    "E_Cu = rhoCu * cCu**2\n",
    "err_E_Cu = sqrt((cCu * 2*rhoCu * err_rhoCu)**2 +\n",
    "                (rhoCu**2 * err_cCu)**2)\n",
    "print(f'{E_Cu:f} +- {err_E_Cu:f}') # kg^2 m^-5 s^-1\n"
   ]
  },
  {
   "cell_type": "code",
   "execution_count": 50,
   "metadata": {},
   "outputs": [
    {
     "name": "stdout",
     "output_type": "stream",
     "text": [
      "Cu: 133.784297 +- 13.912632 MPa\n",
      "Al: 66.178822 +- 6.921455 MPa\n",
      "P: 3.415930 +- 0.290641 MPa\n"
     ]
    }
   ],
   "source": [
    "for m in ['Cu', 'Al', 'P']:\n",
    "    rho, c, err_rho, err_c = \\\n",
    "        eval(f'rho{m}, c{m}, err_rho{m}, err_c{m}')\n",
    "    E = rho * c**2 * 1e-9 # GPa\n",
    "    # err_E = sqrt((c**2 * err_rho)**2 +\n",
    "    #              ((rho * 2*c * err_c))**2) * 1e-9\n",
    "    err_E = rho * 2*c * err_c * 1e-9\n",
    "    # (c**2 * err_rho) * 1e-6\n",
    "    # (rho * 2*c * err_c) * 1e-6\n",
    "    print(f'{m}: {E:f} +- {err_E:f} MPa') # kg^2 m^-5 s^-1\n",
    "    exec(f'E{m} = {E}; err_E{m} = {err_E}')"
   ]
  },
  {
   "cell_type": "code",
   "execution_count": null,
   "metadata": {},
   "outputs": [],
   "source": [
    "\n"
   ]
  },
  {
   "cell_type": "markdown",
   "metadata": {},
   "source": [
    "# Aufgabe 3"
   ]
  },
  {
   "cell_type": "code",
   "execution_count": 51,
   "metadata": {},
   "outputs": [],
   "source": [
    "f1 = 1001.5; err_f1 = 1.1\n",
    "f2 = 651.68; err_f2 = 0.03\n",
    "f3 = 1508.6; err_f3 = 0.3"
   ]
  },
  {
   "cell_type": "code",
   "execution_count": 61,
   "metadata": {},
   "outputs": [],
   "source": [
    "m1auf, m1ab = loadtxt('freq1.csv', delimiter=',', skiprows=1).T\n",
    "m2auf, m2ab = loadtxt('freq2.csv', delimiter=',', skiprows=1).T\n",
    "m3auf, m3ab = loadtxt('freq3.csv', delimiter=',', skiprows=1).T"
   ]
  },
  {
   "cell_type": "code",
   "execution_count": 62,
   "metadata": {},
   "outputs": [],
   "source": [
    "m1auf"
   ]
  },
  {
   "cell_type": "code",
   "execution_count": null,
   "metadata": {},
   "outputs": [],
   "source": []
  }
 ],
 "metadata": {
  "kernelspec": {
   "display_name": "Python 3",
   "language": "python",
   "name": "python3"
  },
  "language_info": {
   "codemirror_mode": {
    "name": "ipython",
    "version": 3
   },
   "file_extension": ".py",
   "mimetype": "text/x-python",
   "name": "python",
   "nbconvert_exporter": "python",
   "pygments_lexer": "ipython3",
   "version": "3.6.1"
  }
 },
 "nbformat": 4,
 "nbformat_minor": 2
}
