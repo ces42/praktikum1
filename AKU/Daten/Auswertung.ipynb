{
 "cells": [
  {
   "cell_type": "code",
   "execution_count": 118,
   "metadata": {},
   "outputs": [
    {
     "name": "stdout",
     "output_type": "stream",
     "text": [
      "Populating the interactive namespace from numpy and matplotlib\n"
     ]
    }
   ],
   "source": [
    "%pylab qt5\n",
    "%matplotlib inline"
   ]
  },
  {
   "cell_type": "markdown",
   "metadata": {},
   "source": [
    "### Kupfer"
   ]
  },
  {
   "cell_type": "code",
   "execution_count": 30,
   "metadata": {},
   "outputs": [],
   "source": [
    "Cu1 = [767 - 35, 1612 - 84, 2366 - 168, 3154 - 168, 3938 - 172, 4718 - 172]\n",
    "Cu2 = [2380 - 1900, 2380 - 1130, 2380 - 300, 3220 - 370]\n",
    "Cu3 = [3590 - 2360, 3590 - 1570, 3590 - 770, 3590 - 20]"
   ]
  },
  {
   "cell_type": "code",
   "execution_count": 73,
   "metadata": {},
   "outputs": [
    {
     "data": {
      "text/plain": [
       "array([796, 670, 788, 780, 780])"
      ]
     },
     "execution_count": 73,
     "metadata": {},
     "output_type": "execute_result"
    },
    {
     "data": {
      "text/plain": [
       "array([770, 830, 770])"
      ]
     },
     "execution_count": 73,
     "metadata": {},
     "output_type": "execute_result"
    },
    {
     "data": {
      "text/plain": [
       "array([790, 800, 750])"
      ]
     },
     "execution_count": 73,
     "metadata": {},
     "output_type": "execute_result"
    }
   ],
   "source": [
    "diff(Cu1)\n",
    "diff(Cu2)\n",
    "diff(Cu3)\n",
    "dCu = concatenate([diff(Cu1), diff(Cu2), diff(Cu3)])"
   ]
  },
  {
   "cell_type": "code",
   "execution_count": 74,
   "metadata": {},
   "outputs": [
    {
     "data": {
      "text/plain": [
       "[<matplotlib.lines.Line2D at 0x7f7258abbb38>]"
      ]
     },
     "execution_count": 74,
     "metadata": {},
     "output_type": "execute_result"
    }
   ],
   "source": [
    "plt.plot(zeros_like(dCu), dCu, 'o')"
   ]
  },
  {
   "cell_type": "code",
   "execution_count": 86,
   "metadata": {},
   "outputs": [
    {
     "name": "stdout",
     "output_type": "stream",
     "text": [
      "774.909091 +- 40.292566\n"
     ]
    }
   ],
   "source": [
    "TCu = mean(dCu); err_TCu = std(dCu, ddof=1)\n",
    "print(f'{TCu:f} +- {err_TCu:f}')"
   ]
  },
  {
   "cell_type": "code",
   "execution_count": 94,
   "metadata": {},
   "outputs": [
    {
     "name": "stdout",
     "output_type": "stream",
     "text": [
      "3866.259972 +- 201.032016\n"
     ]
    }
   ],
   "source": [
    "lCu = 1.498 # m\n",
    "cCu = 2 * lCu / TCu * 1e6 # millisekunden in sekunden\n",
    "err_cCu = 2 * lCu / TCu**2 * err_TCu * 1e6\n",
    "print(f'{cCu:f} +- {err_cCu:f}')"
   ]
  },
  {
   "cell_type": "markdown",
   "metadata": {},
   "source": [
    "CRC Handbook S. 14-41"
   ]
  },
  {
   "cell_type": "markdown",
   "metadata": {},
   "source": [
    "### Plastik"
   ]
  },
  {
   "cell_type": "code",
   "execution_count": 75,
   "metadata": {},
   "outputs": [],
   "source": [
    "P1 = [7400, 6160, 4760, 3440]\n",
    "P2 = [7440, 6160, 4760, 3440]\n",
    "P3 = [7400, 6120, 4840, 3560]"
   ]
  },
  {
   "cell_type": "code",
   "execution_count": 97,
   "metadata": {},
   "outputs": [
    {
     "data": {
      "text/plain": [
       "array([-1240, -1400, -1320])"
      ]
     },
     "execution_count": 97,
     "metadata": {},
     "output_type": "execute_result"
    },
    {
     "data": {
      "text/plain": [
       "array([-1280, -1400, -1320])"
      ]
     },
     "execution_count": 97,
     "metadata": {},
     "output_type": "execute_result"
    },
    {
     "data": {
      "text/plain": [
       "array([-1280, -1280, -1280])"
      ]
     },
     "execution_count": 97,
     "metadata": {},
     "output_type": "execute_result"
    }
   ],
   "source": [
    "diff(P1)\n",
    "diff(P2)\n",
    "diff(P3)\n",
    "dP = abs(concatenate([diff(P1), diff(P2), diff(P3)]))"
   ]
  },
  {
   "cell_type": "code",
   "execution_count": 120,
   "metadata": {},
   "outputs": [
    {
     "data": {
      "text/plain": [
       "[<matplotlib.lines.Line2D at 0x7f7258373908>]"
      ]
     },
     "execution_count": 120,
     "metadata": {},
     "output_type": "execute_result"
    },
    {
     "data": {
      "image/png": "[encoded data removed]",
      "text/plain": [
       "<matplotlib.figure.Figure at 0x7f72583a4b70>"
      ]
     },
     "metadata": {},
     "output_type": "display_data"
    }
   ],
   "source": [
    "plt.plot(zeros_like(dP), dP, 'o')"
   ]
  },
  {
   "cell_type": "code",
   "execution_count": 125,
   "metadata": {},
   "outputs": [
    {
     "name": "stdout",
     "output_type": "stream",
     "text": [
      "1311.111111 +- 55.777335\n"
     ]
    }
   ],
   "source": [
    "TP = mean(dP); err_TP = std(dP, ddof=1)\n",
    "print(f'{TP:f} +- {err_TP:f}')"
   ]
  },
  {
   "cell_type": "code",
   "execution_count": 126,
   "metadata": {},
   "outputs": [
    {
     "name": "stdout",
     "output_type": "stream",
     "text": [
      "1562.033898 +- 66.452101\n"
     ]
    }
   ],
   "source": [
    "lP = 1.024 # m\n",
    "cP = 2 * lP / TP * 1e6 # millisekunden in sekunden\n",
    "err_cP = 2 * lP / TP**2 * err_TP * 1e6\n",
    "print(f'{cP:f} +- {err_cP:f}')"
   ]
  },
  {
   "cell_type": "markdown",
   "metadata": {},
   "source": [
    "### Aluminimium"
   ]
  },
  {
   "cell_type": "code",
   "execution_count": 79,
   "metadata": {},
   "outputs": [],
   "source": [
    "Al1 = [2280, 1710, 1070, 460]\n",
    "Al2 = [2260, 1690, 1070, 440]\n",
    "Al3 = [2270, 1700, 1050, 460]"
   ]
  },
  {
   "cell_type": "code",
   "execution_count": 111,
   "metadata": {},
   "outputs": [
    {
     "data": {
      "text/plain": [
       "array([-570, -640, -610])"
      ]
     },
     "execution_count": 111,
     "metadata": {},
     "output_type": "execute_result"
    },
    {
     "data": {
      "text/plain": [
       "array([-570, -620, -630])"
      ]
     },
     "execution_count": 111,
     "metadata": {},
     "output_type": "execute_result"
    },
    {
     "data": {
      "text/plain": [
       "array([-570, -650, -590])"
      ]
     },
     "execution_count": 111,
     "metadata": {},
     "output_type": "execute_result"
    }
   ],
   "source": [
    "diff(Al1)\n",
    "diff(Al2)\n",
    "diff(Al3)\n",
    "dAl = abs(concatenate([diff(Al1), diff(Al2), diff(Al3)]))"
   ]
  },
  {
   "cell_type": "code",
   "execution_count": 119,
   "metadata": {},
   "outputs": [
    {
     "data": {
      "text/plain": [
       "[<matplotlib.lines.Line2D at 0x7f725838b400>]"
      ]
     },
     "execution_count": 119,
     "metadata": {},
     "output_type": "execute_result"
    },
    {
     "data": {
      "image/png": "[encoded data removed]",
      "text/plain": [
       "<matplotlib.figure.Figure at 0x7f7258584780>"
      ]
     },
     "metadata": {},
     "output_type": "display_data"
    }
   ],
   "source": [
    "plt.plot(zeros_like(dAl), dAl, 'o')"
   ]
  },
  {
   "cell_type": "code",
   "execution_count": 113,
   "metadata": {},
   "outputs": [
    {
     "name": "stdout",
     "output_type": "stream",
     "text": [
      "605.555556 +- 31.666667\n"
     ]
    }
   ],
   "source": [
    "TAl = mean(dAl); err_TAl = std(dAl, ddof=1)\n",
    "print(f'{TAl:f} +- {err_TAl:f}')"
   ]
  },
  {
   "cell_type": "code",
   "execution_count": 114,
   "metadata": {},
   "outputs": [
    {
     "name": "stdout",
     "output_type": "stream",
     "text": [
      "4950.825688 +- 258.896389\n"
     ]
    }
   ],
   "source": [
    "lAl = 1.499 # m\n",
    "cAl = 2 * lAl / TAl * 1e6 # millisekunden in sekunden\n",
    "err_cAl = 2 * lAl / TAl**2 * err_TAl * 1e6\n",
    "print(f'{cAl:f} +- {err_cAl:f}')"
   ]
  },
  {
   "cell_type": "code",
   "execution_count": null,
   "metadata": {},
   "outputs": [],
   "source": []
  }
 ],
 "metadata": {
  "kernelspec": {
   "display_name": "Python 3",
   "language": "python",
   "name": "python3"
  },
  "language_info": {
   "codemirror_mode": {
    "name": "ipython",
    "version": 3
   },
   "file_extension": ".py",
   "mimetype": "text/x-python",
   "name": "python",
   "nbconvert_exporter": "python",
   "pygments_lexer": "ipython3",
   "version": "3.6.1"
  }
 },
 "nbformat": 4,
 "nbformat_minor": 2
}
