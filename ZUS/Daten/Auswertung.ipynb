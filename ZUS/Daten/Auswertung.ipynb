{
 "cells": [
  {
   "cell_type": "code",
   "execution_count": 29,
   "metadata": {},
   "outputs": [
    {
     "name": "stdout",
     "output_type": "stream",
     "text": [
      "Populating the interactive namespace from numpy and matplotlib\n",
      "Using matplotlib backend: Qt5Agg\n"
     ]
    }
   ],
   "source": [
    "%pylab qt5\n",
    "%matplotlib\n",
    "import scipy.stats"
   ]
  },
  {
   "cell_type": "code",
   "execution_count": 21,
   "metadata": {},
   "outputs": [],
   "source": [
    "pylab.rcParams['figure.figsize'] = (10, 6)"
   ]
  },
  {
   "cell_type": "code",
   "execution_count": 3,
   "metadata": {},
   "outputs": [],
   "source": [
    "import os"
   ]
  },
  {
   "cell_type": "code",
   "execution_count": 25,
   "metadata": {},
   "outputs": [
    {
     "name": "stdout",
     "output_type": "stream",
     "text": [
      "25\n",
      "40\n",
      "35\n",
      "30\n",
      "55\n",
      "47.5\n",
      "45\n",
      "42.5\n",
      "50\n"
     ]
    }
   ],
   "source": [
    "V = dict()\n",
    "pab = dict()\n",
    "pauf = dict()\n",
    "csvs = [name for name in os.listdir() if name.endswith('.csv')]\n",
    "for name in csvs:\n",
    "    daten = loadtxt(name, delimiter=',', skiprows=1)\n",
    "    print(name[:-8])\n",
    "    T = float(name[:-8])\n",
    "    V[T] = daten[:, 0]\n",
    "    pab[T] = daten[:, 1]\n",
    "    pauf[T] = daten[:, 2]"
   ]
  },
  {
   "cell_type": "markdown",
   "metadata": {},
   "source": [
    "### Gruppe 2 (wir)"
   ]
  },
  {
   "cell_type": "code",
   "execution_count": 5,
   "metadata": {},
   "outputs": [],
   "source": [
    "# grad30 = loadtxt('./30grad.csv', delimiter=',', skiprows=1)\n",
    "# V30, pab30, pauf30 = grad30[:, 0], grad30[:, 1], grad30[:, 2]\n",
    "# grad425 = loadtxt('./42.5grad.csv', delimiter=',', skiprows=1)\n",
    "# V425, pab425, pauf425 = grad425[:, 0], grad425[:, 1], grad425[:, 2]\n",
    "# grad50 = loadtxt('./50grad.csv', delimiter=',', skiprows=1)\n",
    "# V50, pab50, pauf50 = grad50[:, 0], grad50[:, 1], grad50[:, 2]"
   ]
  },
  {
   "cell_type": "code",
   "execution_count": 6,
   "metadata": {},
   "outputs": [],
   "source": [
    "# plt.plot(V30, transpose([pab30, pauf30]), 'o')\n",
    "# plt.plot(V30, transpose([pab30, pauf30]), 'x', V425, transpose([pab425, pauf425]), 'o', V50, transpose([pab50, pauf50]), '+')"
   ]
  },
  {
   "cell_type": "code",
   "execution_count": 22,
   "metadata": {},
   "outputs": [
    {
     "data": {
      "text/plain": [
       "[<matplotlib.lines.Line2D at 0x7f4e588747b8>,\n",
       " <matplotlib.lines.Line2D at 0x7f4e58874978>,\n",
       " <matplotlib.lines.Line2D at 0x7f4e5887c1d0>,\n",
       " <matplotlib.lines.Line2D at 0x7f4e5887c320>,\n",
       " <matplotlib.lines.Line2D at 0x7f4e5887ca90>,\n",
       " <matplotlib.lines.Line2D at 0x7f4e5887cbe0>]"
      ]
     },
     "execution_count": 22,
     "metadata": {},
     "output_type": "execute_result"
    },
    {
     "data": {
      "image/png": "[encoded data removed]",
      "text/plain": [
       "<matplotlib.figure.Figure at 0x7f4e588a76a0>"
      ]
     },
     "metadata": {},
     "output_type": "display_data"
    }
   ],
   "source": [
    "grp2 = [30, 42.5, 50]\n",
    "plt.plot(V[30], transpose([pab[30], pauf[30]]), 'x',\n",
    "         V[42.5], transpose([pab[42.5], pauf[42.5]]), 'o',\n",
    "         V[50], transpose([pab[50], pauf[50]]), '+')"
   ]
  },
  {
   "cell_type": "markdown",
   "metadata": {},
   "source": [
    "### Gruppe 1"
   ]
  },
  {
   "cell_type": "code",
   "execution_count": 11,
   "metadata": {},
   "outputs": [],
   "source": [
    "# 25, 40, 47.5\n",
    "# grad25 = loadtxt('./25grad.csv', delimiter=',', skiprows=1)\n",
    "# V25, pab25, pauf25 = grad25[:, 0], grad25[:, 1], grad25[:, 2]\n",
    "# grad425 = loadtxt('./42.5grad.csv', delimiter=',', skiprows=1)\n",
    "# V425, pab425, pauf425 = grad425[:, 0], grad425[:, 1], grad425[:, 2]\n",
    "# grad50 = loadtxt('./50grad.csv', delimiter=',', skiprows=1)\n",
    "# V50, pab50, pauf50 = grad50[:, 0], grad50[:, 1], grad50[:, 2]"
   ]
  },
  {
   "cell_type": "code",
   "execution_count": 30,
   "metadata": {},
   "outputs": [
    {
     "data": {
      "text/plain": [
       "[<matplotlib.lines.Line2D at 0x7f4e586c4b38>,\n",
       " <matplotlib.lines.Line2D at 0x7f4e586c4cf8>,\n",
       " <matplotlib.lines.Line2D at 0x7f4e586d0550>,\n",
       " <matplotlib.lines.Line2D at 0x7f4e586d06a0>,\n",
       " <matplotlib.lines.Line2D at 0x7f4e586d0e10>,\n",
       " <matplotlib.lines.Line2D at 0x7f4e586d0f60>]"
      ]
     },
     "execution_count": 30,
     "metadata": {},
     "output_type": "execute_result"
    }
   ],
   "source": [
    "grp1 = [25, 40, 47.5]\n",
    "plt.plot(V[25], transpose([pab[25], pauf[25]]), 'x',\n",
    "         V[40], transpose([pab[40], pauf[40]]), 'o',\n",
    "         V[47.5], transpose([pab[47.5], pauf[47.5]]), '+')"
   ]
  },
  {
   "cell_type": "code",
   "execution_count": 31,
   "metadata": {},
   "outputs": [
    {
     "data": {
      "text/plain": [
       "(array([15. , 16. , 17. , 18. , 19.5, 20.5, 22. , 24. , 25.5, 27.5, 29.5,\n",
       "        30.5, 31. , 32. , 32. , 32. , 32.5, 32.5, 32.5, 32.5, 32.5, 33. ,\n",
       "         nan]),\n",
       " array([14. , 16. , 17. , 18. , 19.5, 20.5, 22. , 24. , 25.5, 27.5, 29.5,\n",
       "        30.5, 31. , 32. , 32.5, 32.5, 32.5, 32.5, 32.5, 32.5, 32.5, 35. ,\n",
       "        45. ]))"
      ]
     },
     "execution_count": 31,
     "metadata": {},
     "output_type": "execute_result"
    }
   ],
   "source": [
    "pauf[40], pab[40]"
   ]
  },
  {
   "cell_type": "code",
   "execution_count": 24,
   "metadata": {},
   "outputs": [
    {
     "data": {
      "text/plain": [
       "[<matplotlib.lines.Line2D at 0x7f4e587d6e48>,\n",
       " <matplotlib.lines.Line2D at 0x7f4e5875f048>,\n",
       " <matplotlib.lines.Line2D at 0x7f4e5875f828>,\n",
       " <matplotlib.lines.Line2D at 0x7f4e5875f978>,\n",
       " <matplotlib.lines.Line2D at 0x7f4e58766128>,\n",
       " <matplotlib.lines.Line2D at 0x7f4e58766278>]"
      ]
     },
     "execution_count": 24,
     "metadata": {},
     "output_type": "execute_result"
    },
    {
     "data": {
      "image/png": "[encoded data removed]",
      "text/plain": [
       "<matplotlib.figure.Figure at 0x7f4e5880b550>"
      ]
     },
     "metadata": {},
     "output_type": "display_data"
    }
   ],
   "source": [
    "grp3 = [25, 40, 47.5]\n",
    "plt.plot(V[35], transpose([pab[35], pauf[35]]), 'x',\n",
    "         V[45], transpose([pab[45], pauf[45]]), 'o',\n",
    "         V[55], transpose([pab[55], pauf[55]]), '+')"
   ]
  },
  {
   "cell_type": "code",
   "execution_count": null,
   "metadata": {},
   "outputs": [],
   "source": []
  }
 ],
 "metadata": {
  "kernelspec": {
   "display_name": "Python 3",
   "language": "python",
   "name": "python3"
  },
  "language_info": {
   "codemirror_mode": {
    "name": "ipython",
    "version": 3
   },
   "file_extension": ".py",
   "mimetype": "text/x-python",
   "name": "python",
   "nbconvert_exporter": "python",
   "pygments_lexer": "ipython3",
   "version": "3.6.1"
  }
 },
 "nbformat": 4,
 "nbformat_minor": 2
}
