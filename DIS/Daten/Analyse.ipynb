{
 "cells": [
  {
   "cell_type": "code",
   "execution_count": 1,
   "metadata": {},
   "outputs": [
    {
     "name": "stdout",
     "output_type": "stream",
     "text": [
      "Populating the interactive namespace from numpy and matplotlib\n",
      "Warning: Cannot change to a different GUI toolkit: notebook. Using qt5 instead.\n"
     ]
    },
    {
     "name": "stderr",
     "output_type": "stream",
     "text": [
      "/home/ca/.local/lib/python3.6/site-packages/IPython/core/magics/pylab.py:160: UserWarning: pylab import has clobbered these variables: ['degrees', 'cos', 'exp', 'pi', 'hypot', 'tan', 'log10', 'ldexp', 'log', 'copysign', 'modf', 'fabs', 'isfinite', 'isinf', 'nan', 'ceil', 'inf', 'cosh', 'fmod', 'e', 'log2', 'gamma', 'trunc', 'isclose', 'radians', 'sinh', 'frexp', 'tanh', 'floor', 'sin', 'isnan', 'sqrt', 'log1p', 'expm1']\n",
      "`%matplotlib` prevents importing * from pylab and numpy\n",
      "  \"\\n`%matplotlib` prevents importing * from pylab and numpy\"\n"
     ]
    }
   ],
   "source": [
    "%pylab qt5\n",
    "%matplotlib inline\n",
    "import scipy.stats"
   ]
  },
  {
   "cell_type": "code",
   "execution_count": null,
   "metadata": {},
   "outputs": [],
   "source": [
    "pylab.rcParams['figure.figsize'] = (10, 6)"
   ]
  },
  {
   "cell_type": "code",
   "execution_count": null,
   "metadata": {},
   "outputs": [],
   "source": [
    "wasser1 = loadtxt('./wasser1.csv', delimiter=',', skiprows=1)\n",
    "wt1, wR1 = wasser1[:, 0], wasser1[:, 1]\n",
    "wasser2 = loadtxt('./wasser2.csv', delimiter=',', skiprows=1)\n",
    "wt2, wR2 = wasser2[:, 0], wasser2[:, 1]\n",
    "wasser3 = loadtxt('./wasser3.csv', delimiter=',', skiprows=1)\n",
    "wt3, wR3 = wasser3[:, 0], wasser3[:, 1]"
   ]
  },
  {
   "cell_type": "code",
   "execution_count": null,
   "metadata": {},
   "outputs": [],
   "source": [
    "plt.plot(wt1, wR1, '+', wt2, wR2, '.',  wt3, wR3, '1')\n",
    "plt.plot(linspace(0, 255, 50), [6.6633]*50,  'k--')"
   ]
  },
  {
   "cell_type": "code",
   "execution_count": null,
   "metadata": {},
   "outputs": [],
   "source": [
    "salz1 = loadtxt('./salz1.csv', delimiter=',', skiprows=1)\n",
    "st1, sR1 = salz1[:, 0], salz1[:, 1]\n",
    "salz2 = loadtxt('./salz2.csv', delimiter=',', skiprows=1)\n",
    "st2, sR2 = salz2[:, 0], salz2[:, 1]\n",
    "salz3 = loadtxt('./salz3.csv', delimiter=',', skiprows=1)\n",
    "st3, sR3 = salz3[:, 0], salz3[:, 1]"
   ]
  },
  {
   "cell_type": "code",
   "execution_count": null,
   "metadata": {},
   "outputs": [],
   "source": [
    "plt.plot(st1, sR1, '+', st2, sR2, '.',  st3, sR3, '1')\n",
    "plt.plot(linspace(0, 755, 50), [7.0233]*50,  'k--')"
   ]
  },
  {
   "cell_type": "code",
   "execution_count": null,
   "metadata": {},
   "outputs": [],
   "source": [
    "salz3[-1]"
   ]
  },
  {
   "cell_type": "markdown",
   "metadata": {},
   "source": [
    "## Kalibrierung"
   ]
  },
  {
   "cell_type": "code",
   "execution_count": null,
   "metadata": {},
   "outputs": [],
   "source": [
    "kali = loadtxt('./kalibrierung.csv', delimiter=',', skiprows=1)"
   ]
  },
  {
   "cell_type": "code",
   "execution_count": null,
   "metadata": {},
   "outputs": [],
   "source": [
    "Temp = kali[:, 0]\n",
    "R = kali[:, 1]"
   ]
  },
  {
   "cell_type": "code",
   "execution_count": null,
   "metadata": {},
   "outputs": [],
   "source": [
    "a, b, res, _, err_a = scipy.stats.linregress(R, Temp)\n",
    "a, b, err_a"
   ]
  },
  {
   "cell_type": "code",
   "execution_count": null,
   "metadata": {},
   "outputs": [],
   "source": [
    "err_b = 0.174 # aus Origin"
   ]
  },
  {
   "cell_type": "code",
   "execution_count": null,
   "metadata": {},
   "outputs": [],
   "source": [
    "plt.plot(R, Temp, 'o')\n",
    "x = linspace(min(R), max(R))\n",
    "plt.plot(x, a*x + b)"
   ]
  },
  {
   "cell_type": "markdown",
   "metadata": {},
   "source": [
    "$T = a R + b$"
   ]
  },
  {
   "cell_type": "code",
   "execution_count": null,
   "metadata": {},
   "outputs": [],
   "source": [
    "T = vectorize(lambda R: a*R + b)"
   ]
  },
  {
   "cell_type": "markdown",
   "metadata": {},
   "source": [
    "Wir können auch eine Korrektur zweiter Ordnung an die Regression berechnen:"
   ]
  },
  {
   "cell_type": "code",
   "execution_count": null,
   "metadata": {},
   "outputs": [],
   "source": [
    "# AA = transpose([ones_like(R), R, R**2])\n",
    "# m2, [res2], _, _ = linalg.lstsq(AA, Temp)\n",
    "# b2, a2, k = m2\n",
    "# a2, b2, k, res2"
   ]
  },
  {
   "cell_type": "code",
   "execution_count": null,
   "metadata": {},
   "outputs": [],
   "source": [
    "# plt.plot(R, Temp, 'o')\n",
    "# plt.plot(x, a2*x + b2 + k* x**2)"
   ]
  },
  {
   "cell_type": "markdown",
   "metadata": {},
   "source": [
    "Am besten fitten wir jedoch einen exponentiellen Zusammenhang, denn das ist was tatsächlich vorliegt...\n",
    "\n",
    "$R = \\beta \\, e^{\\alpha T} \\quad\\Longrightarrow\\quad \\log R = \\log\\beta + \\alpha T$"
   ]
  },
  {
   "cell_type": "markdown",
   "metadata": {},
   "source": [
    "Da die Werte von $R$ nicht zu stark streuen (bzw. nicht zu nah an $0$ kommen wo die Ableitung von $\\log$ singulär wird), kommen wir wohl ohne Gewichtung klar..."
   ]
  },
  {
   "cell_type": "code",
   "execution_count": null,
   "metadata": {},
   "outputs": [],
   "source": [
    "α, logβ , _, _, err_α = scipy.stats.linregress(Temp, log(R))\n",
    "β = exp(logβ)\n",
    "print(f'α = {α} +- {err_α}, β = {β}')\n",
    "y = linspace(min(Temp), max(Temp))\n",
    "#plt.yscale('log')\n",
    "_ = plt.plot(R, Temp, 'o')\n",
    "_ = plt.plot(β * exp(α * y), y)\n",
    "_ = plt.plot(x, a*x + b, ':')"
   ]
  },
  {
   "cell_type": "markdown",
   "metadata": {},
   "source": [
    "$T = \\dfrac1{\\alpha} \\left(\\log R - \\log\\beta \\right)$"
   ]
  },
  {
   "cell_type": "code",
   "execution_count": null,
   "metadata": {},
   "outputs": [],
   "source": [
    "Texp = vectorize(lambda R: 1/α * (log(R) - log(β)))"
   ]
  },
  {
   "cell_type": "markdown",
   "metadata": {},
   "source": [
    "### Temperatur-Zeit Diagramme"
   ]
  },
  {
   "cell_type": "code",
   "execution_count": null,
   "metadata": {},
   "outputs": [],
   "source": [
    "_ = plt.plot(wt1, T(wR1), '+', wt2, T(wR2), '.',  wt3, T(wR3), '1')\n",
    "_ = plt.plot(linspace(0, 255, 50), [T(6.6633)]*50,  'k--')\n",
    "_ = plt.title('Temperatur - Zeit')\n",
    "_ = plt.ylabel('Temperatur in °C')\n",
    "_ = plt.xlabel('Zeit in s')\n",
    "T0 = T(6.6633)\n",
    "T0exp = Texp(6.6633)\n",
    "print(f'Temperatur: {T0} °C')\n",
    "print(f'mit exp. fit: {T0exp} °C')\n",
    "print()"
   ]
  },
  {
   "cell_type": "code",
   "execution_count": null,
   "metadata": {},
   "outputs": [],
   "source": [
    "_ = plt.plot(st1, T(sR1), '+', st2, T(sR2), '.',  st3, T(sR3), '1')\n",
    "_ = plt.plot(linspace(0, 755, 50), [T(7.0233)]*50,  'k--')\n",
    "_ = plt.title('Temperatur - Zeit')\n",
    "_ = plt.ylabel('Temperatur in °C')\n",
    "_ = plt.xlabel('Zeit in s')\n",
    "T1 = T(7.0233)\n",
    "T1exp = Texp(7.0233)\n",
    "print(f'Temperatur: {T1} °C')\n",
    "print(f'mit exp. fit: {T1exp} °C')\n",
    "print()"
   ]
  },
  {
   "cell_type": "code",
   "execution_count": null,
   "metadata": {},
   "outputs": [],
   "source": [
    "# in Gramm\n",
    "# Masse des Wassers\n",
    "m_W = 46.9183 - 26.7474 # Masse des Reagenzglases abziehen\n",
    "\n",
    "m_S = 0.5700 # Masse des Salzes\n",
    "# molare Masse des Salzes\n",
    "M_S = 22.98977 + 14.0067 + 3 * 15.9994# NaNO3 Natrium: 22.98977, Stickstoff: 14.0067, Sauerstoff: 15.9994\n",
    "N = m_S / M_S # gelöste Stoffmenge\n",
    "N\n",
    "\n",
    "K_G1 = 1.859 # K mol^-1"
   ]
  },
  {
   "cell_type": "code",
   "execution_count": null,
   "metadata": {},
   "outputs": [],
   "source": [
    "M_S"
   ]
  },
  {
   "cell_type": "code",
   "execution_count": null,
   "metadata": {},
   "outputs": [],
   "source": [
    "DT_G = T0 - T1\n",
    "DT_G"
   ]
  },
  {
   "cell_type": "code",
   "execution_count": null,
   "metadata": {},
   "outputs": [],
   "source": [
    "DT_Gexp = T0exp - T1exp\n",
    "DT_Gexp"
   ]
  },
  {
   "cell_type": "code",
   "execution_count": null,
   "metadata": {},
   "outputs": [],
   "source": [
    "# in SI\n",
    "N_dis = DT_G * m_W * 1e-3 / K_G1\n",
    "N_dis"
   ]
  },
  {
   "cell_type": "code",
   "execution_count": null,
   "metadata": {},
   "outputs": [],
   "source": [
    "alpha = (N_dis / N - 1) / (2 - 1) # z = 2\n",
    "alpha"
   ]
  },
  {
   "cell_type": "code",
   "execution_count": null,
   "metadata": {},
   "outputs": [],
   "source": [
    "alpha_exp = DT_Gexp * m_W * 1e-3 / K_G1 / N - 1\n",
    "alpha_exp"
   ]
  },
  {
   "cell_type": "markdown",
   "metadata": {},
   "source": [
    "# Fehlerrechnung"
   ]
  },
  {
   "cell_type": "markdown",
   "metadata": {},
   "source": [
    "Standardabweichung des mittelwerts für $R_0$ (destilliertes Wasser)  \n",
    "Korrekturfaktor `t = 1.2` für wenige Messwerte"
   ]
  },
  {
   "cell_type": "code",
   "execution_count": null,
   "metadata": {},
   "outputs": [],
   "source": [
    "wR1[-1], wR2[-1], wR3[-1]"
   ]
  },
  {
   "cell_type": "code",
   "execution_count": null,
   "metadata": {},
   "outputs": [],
   "source": [
    "R0 = mean([6.67, 6.66, 6.66])\n",
    "err_R0 = 1.2 * std([6.67, 6.66, 6.66], ddof=1) / sqrt(3)\n",
    "R0, err_R0"
   ]
  },
  {
   "cell_type": "markdown",
   "metadata": {},
   "source": [
    "Standardabweichung des mittelwerts für $R_1$ (Salzwasser)  \n",
    "Korrekturfaktor `t = 1.2` für wenige Messwerte"
   ]
  },
  {
   "cell_type": "code",
   "execution_count": null,
   "metadata": {},
   "outputs": [],
   "source": [
    "sR1[-1], sR2[-1], sR3[-1]"
   ]
  },
  {
   "cell_type": "code",
   "execution_count": null,
   "metadata": {},
   "outputs": [],
   "source": [
    "R1 = mean([7.03, 7.02, 7.02])\n",
    "err_R1 = 1.2 * std([7.03, 7.02, 7.02], ddof=1) / sqrt(3)\n",
    "R1, err_R1"
   ]
  },
  {
   "cell_type": "markdown",
   "metadata": {},
   "source": [
    "Die Numerik spackt mal wieder rum:"
   ]
  },
  {
   "cell_type": "code",
   "execution_count": null,
   "metadata": {},
   "outputs": [],
   "source": [
    "(err_R0 - err_R1) / err_R0"
   ]
  },
  {
   "cell_type": "code",
   "execution_count": null,
   "metadata": {},
   "outputs": [],
   "source": [
    "a, err_a"
   ]
  },
  {
   "cell_type": "markdown",
   "metadata": {},
   "source": [
    "$\\Delta T_G = T_0 - T_1 = a \\cdot (R_0 - R_1)$\n",
    "\n",
    "Fehler:\n",
    "$\\Delta(\\Delta T_G) = \\sqrt{(R_0 - R_1)^2 \\Delta a^2 + a^2 \\cdot ({\\Delta R_0}^2 + {\\Delta R_1}^2)}$"
   ]
  },
  {
   "cell_type": "code",
   "execution_count": null,
   "metadata": {},
   "outputs": [],
   "source": [
    "err_DT_G = sqrt((R0 - R1)**2 * err_a**2 + a**2 * (err_R0**2 + err_R1**2))\n",
    "DT_G, err_DT_G\n",
    "print(f'Fehler aus a {abs((R0 - R1) * err_a):e}')\n",
    "print(f'Fehler aus R0: {abs(a * err_R0):e}')\n",
    "print(f'Fehler aus R1: {abs(a * err_R1):e}')"
   ]
  },
  {
   "cell_type": "code",
   "execution_count": null,
   "metadata": {},
   "outputs": [],
   "source": [
    "# Fehler für die Schmelzpunkte\n",
    "err_T0 = sqrt(a**2 * err_R0**2 + (err_a * R0 + err_b)**2)\n",
    "err_T0\n",
    "err_T1 = sqrt(a**2 * err_R1**2 + (err_a * R1 + err_b)**2)\n",
    "err_T1"
   ]
  },
  {
   "cell_type": "markdown",
   "metadata": {},
   "source": [
    "#### Exponentiell\n",
    "\n",
    "$\\Delta T_G = T_0 - T_1 = 1/\\alpha \\cdot (\\log R_0 - \\log R_1)$\n",
    "\n",
    "Fehler:\n",
    "$$\\Delta(\\Delta T_G) = \\sqrt{(\\log R_0 - \\log R_1)^2 \\frac{\\Delta \\alpha^2}{\\alpha^4} +\n",
    "\\frac1{\\alpha^2} \\cdot \\left( \\frac{{\\Delta R_0}^2}{{R_0}^2} + \\frac{{\\Delta R_1}^2}{{R_1}^2} \\right)}$$"
   ]
  },
  {
   "cell_type": "code",
   "execution_count": null,
   "metadata": {},
   "outputs": [],
   "source": [
    "err_DT_Gexp = sqrt((log(R0) - log(R1))**2 * err_α**2 / α**4 + \n",
    "                α**(-2) * (err_R0**2 / R0**2 + err_R1**2 / R1**2))\n",
    "DT_Gexp, err_DT_Gexp\n",
    "print(f'Fehler aus α {(log(R0) - log(R1)) * err_α / α**2:e}')\n",
    "print(f'Fehler aus R0: {1/α * err_R0 / R0:e}')\n",
    "print(f'Fehler aus R1: {1/α * err_R0 / R1:e}')"
   ]
  },
  {
   "cell_type": "code",
   "execution_count": null,
   "metadata": {},
   "outputs": [],
   "source": [
    "err_waage = 0.0005 # in gramm\n",
    "ERR_waage = 0.0002"
   ]
  },
  {
   "cell_type": "code",
   "execution_count": null,
   "metadata": {},
   "outputs": [],
   "source": [
    "err_m_W = sqrt(2 * err_waage**2); ERR_m_W = 2 * ERR_waage\n",
    "m_W, err_m_W, ERR_m_W\n",
    "err_m_S = err_waage; ERR_m_S = ERR_waage"
   ]
  },
  {
   "cell_type": "code",
   "execution_count": null,
   "metadata": {},
   "outputs": [],
   "source": [
    "err_N = err_m_S / M_S; ERR_N = ERR_m_S / M_S"
   ]
  },
  {
   "cell_type": "code",
   "execution_count": null,
   "metadata": {},
   "outputs": [],
   "source": [
    "# N_dis = DT_G * m_W * 1e-3 / K_G1\n",
    "N_dis, sqrt((m_W * 1e-3 / K_G1)**2 * err_DT_G**2 + (DT_G * 1e-3 / K_G1)**2 * ERR_m_W**2 )\n",
    "print(f'Fehler aus DT_G {(m_W * 1e-3 / K_G1) * err_DT_G:e}')\n",
    "print(f'Fehler aus m_W: {(DT_G * 1e-3 / K_G1) * ERR_m_W:e}')"
   ]
  },
  {
   "cell_type": "markdown",
   "metadata": {},
   "source": [
    "Wir können den statistischen Fehler aus `m_W` getrost vernachlässigen, den systematischen auch, da er in der gleichen Größenordnung liegt"
   ]
  },
  {
   "cell_type": "code",
   "execution_count": null,
   "metadata": {},
   "outputs": [],
   "source": [
    "err_N_dis = (m_W * 1e-3 / K_G1) * err_DT_G\n",
    "N_dis, err_N_dis"
   ]
  },
  {
   "cell_type": "code",
   "execution_count": null,
   "metadata": {},
   "outputs": [],
   "source": [
    "# alpha = (N_dis / N - 1) / (2 - 1) = N_dis / N - 1\n",
    "err_alpha = sqrt(1/N**2 * err_N_dis**2 / 2**2 + N_dis**2 / N**4 * err_N**2 / 2**2)\n",
    "print(f'Fehler aus N_dis {1/N * err_N_dis:e}')\n",
    "print(f'Fehler aus N: {N_dis / N**2 * err_N:e}')\n",
    "alpha, err_alpha"
   ]
  },
  {
   "cell_type": "markdown",
   "metadata": {},
   "source": [
    "Wir können statisfischen den Fehler aus `N` vernachlässigen, den Systematischen auch, da er die gleiche Größenordnung hat"
   ]
  },
  {
   "cell_type": "code",
   "execution_count": null,
   "metadata": {},
   "outputs": [],
   "source": [
    "alpha, 1/N *err_N_dis / 2"
   ]
  },
  {
   "cell_type": "code",
   "execution_count": null,
   "metadata": {},
   "outputs": [],
   "source": []
  },
  {
   "cell_type": "code",
   "execution_count": null,
   "metadata": {},
   "outputs": [],
   "source": []
  },
  {
   "cell_type": "code",
   "execution_count": null,
   "metadata": {},
   "outputs": [],
   "source": []
  },
  {
   "cell_type": "code",
   "execution_count": null,
   "metadata": {},
   "outputs": [],
   "source": []
  },
  {
   "cell_type": "code",
   "execution_count": null,
   "metadata": {},
   "outputs": [],
   "source": []
  }
 ],
 "metadata": {
  "kernelspec": {
   "display_name": "Python 3",
   "language": "python",
   "name": "python3"
  },
  "language_info": {
   "codemirror_mode": {
    "name": "ipython",
    "version": 3
   },
   "file_extension": ".py",
   "mimetype": "text/x-python",
   "name": "python",
   "nbconvert_exporter": "python",
   "pygments_lexer": "ipython3",
   "version": "3.6.1"
  },
  "varInspector": {
   "cols": {
    "lenName": 16,
    "lenType": 16,
    "lenVar": 40
   },
   "kernels_config": {
    "python": {
     "delete_cmd_postfix": "",
     "delete_cmd_prefix": "del ",
     "library": "var_list.py",
     "varRefreshCmd": "print(var_dic_list())"
    },
    "r": {
     "delete_cmd_postfix": ") ",
     "delete_cmd_prefix": "rm(",
     "library": "var_list.r",
     "varRefreshCmd": "cat(var_dic_list()) "
    }
   },
   "types_to_exclude": [
    "module",
    "function",
    "builtin_function_or_method",
    "instance",
    "_Feature"
   ],
   "window_display": false
  }
 },
 "nbformat": 4,
 "nbformat_minor": 2
}
