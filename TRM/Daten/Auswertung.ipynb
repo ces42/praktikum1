{
 "cells": [
  {
   "cell_type": "code",
   "execution_count": 12,
   "metadata": {},
   "outputs": [
    {
     "name": "stdout",
     "output_type": "stream",
     "text": [
      "Populating the interactive namespace from numpy and matplotlib\n"
     ]
    }
   ],
   "source": [
    "%pylab qt5\n",
    "import IPython.display as dis"
   ]
  },
  {
   "cell_type": "code",
   "execution_count": 13,
   "metadata": {},
   "outputs": [],
   "source": [
    "m2 = 74.6\n",
    "m1 = 61.4"
   ]
  },
  {
   "cell_type": "code",
   "execution_count": 14,
   "metadata": {},
   "outputs": [
    {
     "data": {
      "text/plain": [
       "1.8849864365944966"
      ]
     },
     "execution_count": 14,
     "metadata": {},
     "output_type": "execute_result"
    }
   ],
   "source": [
    "J2 = (    2/5 * m2 * 0.073 * (0.059/(2*pi))**2 + # Kopf\n",
    "          1/4 * m2 * 0.489 * (0.22**2/4 + 0.32**2/4) + # Rumpf\n",
    "      \n",
    "      \n",
    "      2 * 1/2 * m2 * 0.097 * (0.435/(2*pi))**2 + # Oberschenkel\n",
    "      2 *       m2 * 0.097 * (0.09)**2+ # Oberschenkel-Steiner\n",
    "          \n",
    "          1/2 * m2 * 0.07 * (0.435/(2*pi))**2 + # gerader Unterschenkel\n",
    "                m2 * 0.07 * 0.09**2 + # gerader Unterschenkel-Steiner\n",
    "                \n",
    "                m2 * 0.07 * ((0.435/(2*pi))**2/4 + .6**2/12) +# abgeklappter Unterschenkel\n",
    "                m2 * 0.07 * ( (0.6/2)**2 + 0.09**2) + # abgeklappter Unterschenkel-Steiner\n",
    "      \n",
    "      \n",
    "      2 * 1/2 * m2 * 0.025 * (0.31/(2*pi))**2 + # Unterarme\n",
    "                m2 * 0.025 * (0.11)**2 + # Steiner für abgeklappten Unterarm\n",
    "                m2 * 0.025 * (0.11 + 0.37)**2 + # Steiner für ausgeklappten Unterarm\n",
    "      \n",
    "      \n",
    "          1/2 * m2 * 0.027 * (0.31/(2*pi))**2 + # abgeklappter Oberarm\n",
    "                m2 * 0.027 * (0.11)**2 + # Steiner\n",
    "      \n",
    "          1/2 * m2 * 0.027 * ((0.31/(2*pi))**2/4 + 0.37**2/12)**2 +  # ausgestreckter Oberarm\n",
    "                m2 * 0.027 * (0.11 + 0.37/2)**2 # Steiner\n",
    ")\n",
    "J2"
   ]
  },
  {
   "cell_type": "code",
   "execution_count": 15,
   "metadata": {},
   "outputs": [
    {
     "data": {
      "text/plain": [
       "0.7662746392135514"
      ]
     },
     "execution_count": 15,
     "metadata": {},
     "output_type": "execute_result"
    }
   ],
   "source": [
    "J1 = (    2/5 * m1 * 0.073 * (0.059/(2*pi))**2 + # Kopf\n",
    "          1/4 * m1 * 0.489 * (0.22**2/4 + 0.35**2/4) + # Rumpf\n",
    "      \n",
    "      \n",
    "      2 * 1/2 * m1 * 0.167 * (0.43/(2*pi))**2 + # Beine\n",
    "      2 *       m1 * 0.167 * (0.10)**2+ # Steiner\n",
    "      \n",
    "      2 * 1/2 * m1 * 0.052 * (0.31/(2*pi))**2 + # Arme\n",
    "      2 *       m1 * 0.052 * (0.17)**2 # Steiner\n",
    ")\n",
    "J1"
   ]
  },
  {
   "cell_type": "code",
   "execution_count": null,
   "metadata": {},
   "outputs": [],
   "source": []
  },
  {
   "cell_type": "code",
   "execution_count": 16,
   "metadata": {},
   "outputs": [
    {
     "data": {
      "text/plain": [
       "1.680384087791495"
      ]
     },
     "execution_count": 16,
     "metadata": {},
     "output_type": "execute_result"
    }
   ],
   "source": [
    "7.0**2 / 5.4**2"
   ]
  },
  {
   "cell_type": "code",
   "execution_count": 17,
   "metadata": {},
   "outputs": [
    {
     "data": {
      "text/plain": [
       "2.459935824744389"
      ]
     },
     "execution_count": 17,
     "metadata": {},
     "output_type": "execute_result"
    }
   ],
   "source": [
    "J2 / J1"
   ]
  },
  {
   "cell_type": "code",
   "execution_count": null,
   "metadata": {},
   "outputs": [],
   "source": []
  },
  {
   "cell_type": "markdown",
   "metadata": {},
   "source": [
    "### Trägheitsmoment der Puppe"
   ]
  },
  {
   "cell_type": "code",
   "execution_count": 18,
   "metadata": {},
   "outputs": [],
   "source": [
    "tt1 = array([.764, .768, .769, .769, .771, .773, .773])\n",
    "tt2 = array([.884, .885, .889, .890, .891, .892, .893, .894, .895, .895, .896, .896, .898, .898])"
   ]
  },
  {
   "cell_type": "code",
   "execution_count": 19,
   "metadata": {},
   "outputs": [
    {
     "data": {
      "text/plain": [
       "(0.7695714285714285, 0.0011923794310046594)"
      ]
     },
     "execution_count": 19,
     "metadata": {},
     "output_type": "execute_result"
    },
    {
     "data": {
      "text/plain": [
       "(0.8925714285714286, 0.001170677861839432)"
      ]
     },
     "execution_count": 19,
     "metadata": {},
     "output_type": "execute_result"
    }
   ],
   "source": [
    "t1 = mean(tt1); err_t1 = std(tt1, ddof=1) / sqrt(len(tt1))\n",
    "t2 = mean(tt2); err_t2 = std(tt2, ddof=1) / sqrt(len(tt2))\n",
    "t1, err_t1\n",
    "t2, err_t2"
   ]
  },
  {
   "cell_type": "code",
   "execution_count": 57,
   "metadata": {},
   "outputs": [
    {
     "data": {
      "text/plain": [
       "(0.00034507462118989185, 3.632364433577809e-05)"
      ]
     },
     "execution_count": 57,
     "metadata": {},
     "output_type": "execute_result"
    }
   ],
   "source": [
    "d = 23.9e-3; err_d = 0.10e-3\n",
    "Je = 0.57 * d / (4 * pi**2); err_Je = 0.06 * d / (4 * pi**2)\n",
    "Je, err_Je"
   ]
  },
  {
   "cell_type": "code",
   "execution_count": 54,
   "metadata": {},
   "outputs": [
    {
     "name": "stdout",
     "output_type": "stream",
     "text": [
      "3.5854e-04 +- 3.64e-05\n",
      "Beitrag von d: 1.5001619102587859e-06\n",
      "Beitrag von T: 2.042832762122323e-06\n"
     ]
    }
   ],
   "source": [
    "Jp1 = d * t1**2 / 4 / pi**2\n",
    "err_Jp1 = sqrt((err_d * t1**2 / 4 / pi**2)**2 + (d * 2 * t1 * (err_t1 + 0.001) / 4 / pi**2)**2 + err_Je**2)\n",
    "print(f'{Jp1:.4e} +- {err_Jp1:.2e}')\n",
    "print(f'Beitrag von d: {err_d * t1**2 / 4 / pi**2}')\n",
    "print(f'Beitrag von T: {d * 2 * t1 * (err_t1 + 0.001) / 4 / pi**2}')"
   ]
  },
  {
   "cell_type": "code",
   "execution_count": 22,
   "metadata": {},
   "outputs": [
    {
     "name": "stdout",
     "output_type": "stream",
     "text": [
      "4.8231e-04 +- 3.0944e-06\n"
     ]
    }
   ],
   "source": [
    "Jp2 = d * t2**2 / 4 / pi**2\n",
    "err_Jp2 = sqrt((err_d * t2**2 / 4 / pi**2)**2 + (d * 2 * t2 * (err_t2 + 0.001) / 4 / pi**2)**2)\n",
    "print(f'{Jp2:.4e} +- {err_Jp2:.4e}')"
   ]
  },
  {
   "cell_type": "code",
   "execution_count": 23,
   "metadata": {},
   "outputs": [
    {
     "data": {
      "text/plain": [
       "0.34520381606070005"
      ]
     },
     "execution_count": 23,
     "metadata": {},
     "output_type": "execute_result"
    }
   ],
   "source": [
    "Jp2 / Jp1 - 1"
   ]
  },
  {
   "cell_type": "code",
   "execution_count": null,
   "metadata": {},
   "outputs": [],
   "source": []
  },
  {
   "cell_type": "markdown",
   "metadata": {},
   "source": [
    "### Trägheitsmoment des Menschen"
   ]
  },
  {
   "cell_type": "code",
   "execution_count": 24,
   "metadata": {},
   "outputs": [],
   "source": [
    "D = 2.17; err_D = 0.04"
   ]
  },
  {
   "cell_type": "code",
   "execution_count": 25,
   "metadata": {},
   "outputs": [],
   "source": [
    "# l = []\n",
    "# s = input()\n",
    "# while s != '':\n",
    "#     l.append(float(s))\n",
    "#     s = input()"
   ]
  },
  {
   "cell_type": "code",
   "execution_count": 26,
   "metadata": {},
   "outputs": [],
   "source": [
    "fig1 = array([5.489, 5.513, 5.578, 5.474, 5.462, 5.452, 5.461, 5.47, 5.593, 5.364])"
   ]
  },
  {
   "cell_type": "code",
   "execution_count": 27,
   "metadata": {},
   "outputs": [],
   "source": [
    "fig2 = array([[7.205, 7.087, 7.077, 6.776, 7.001, 7.116, 6.994, 6.895, 6.898, 6.807, 6.881, 7.157, 7.098]])"
   ]
  },
  {
   "cell_type": "code",
   "execution_count": 28,
   "metadata": {},
   "outputs": [
    {
     "data": {
      "text/plain": [
       "(5.4856, 0.06522644317214374)"
      ]
     },
     "execution_count": 28,
     "metadata": {},
     "output_type": "execute_result"
    }
   ],
   "source": [
    "T1 = mean(fig1); err_T1 = std(fig1, ddof=1)\n",
    "T1, err_T1"
   ]
  },
  {
   "cell_type": "code",
   "execution_count": 29,
   "metadata": {},
   "outputs": [
    {
     "data": {
      "text/plain": [
       "(6.999384615384614, 0.1373192985111333)"
      ]
     },
     "execution_count": 29,
     "metadata": {},
     "output_type": "execute_result"
    }
   ],
   "source": [
    "T2 = mean(fig2); err_T2 = std(fig2, ddof=1)\n",
    "T2, err_T2"
   ]
  },
  {
   "cell_type": "code",
   "execution_count": 30,
   "metadata": {},
   "outputs": [
    {
     "data": {
      "text/latex": [
       "$T_1 = 5.486 \\pm 0.065$"
      ],
      "text/plain": [
       "<IPython.core.display.Latex object>"
      ]
     },
     "execution_count": 30,
     "metadata": {},
     "output_type": "execute_result"
    },
    {
     "data": {
      "text/latex": [
       "$T_2 = 6.999 \\pm 0.137$"
      ],
      "text/plain": [
       "<IPython.core.display.Latex object>"
      ]
     },
     "execution_count": 30,
     "metadata": {},
     "output_type": "execute_result"
    }
   ],
   "source": [
    "dis.Latex(f'$T_1 = {T1:.4} \\pm {err_T1:.2}$')\n",
    "dis.Latex(f'$T_2 = {T2:.4} \\pm {err_T2:.3}$')"
   ]
  },
  {
   "cell_type": "code",
   "execution_count": 31,
   "metadata": {},
   "outputs": [
    {
     "data": {
      "text/latex": [
       "$J_1 = 1.654 \\pm 0.0498$"
      ],
      "text/plain": [
       "<IPython.core.display.Latex object>"
      ]
     },
     "execution_count": 31,
     "metadata": {},
     "output_type": "execute_result"
    },
    {
     "data": {
      "text/latex": [
       "Beitrag von $D$: $0.0305$"
      ],
      "text/plain": [
       "<IPython.core.display.Latex object>"
      ]
     },
     "execution_count": 31,
     "metadata": {},
     "output_type": "execute_result"
    },
    {
     "data": {
      "text/latex": [
       "Beitrag von $T_1$: $0.0393$"
      ],
      "text/plain": [
       "<IPython.core.display.Latex object>"
      ]
     },
     "execution_count": 31,
     "metadata": {},
     "output_type": "execute_result"
    }
   ],
   "source": [
    "Jm1 = D * T1**2 / 4 / pi**2\n",
    "err_Jm1 = sqrt((err_D * T1**2 / 4 / pi**2)**2 + (D * 2 * T1 * err_T1 / 4 / pi**2)**2)\n",
    "dis.Latex(f'$J_1 = {Jm1:.5} \\pm {err_Jm1:.3}$')\n",
    "dis.Latex(f'Beitrag von $D$: ${err_D * T1**2 / 4 / pi**2:.3}$')\n",
    "dis.Latex(f'Beitrag von $T_1$: ${D * 2 * T1 * err_T1 / 4 / pi**2:.3}$')"
   ]
  },
  {
   "cell_type": "code",
   "execution_count": 32,
   "metadata": {},
   "outputs": [
    {
     "data": {
      "text/latex": [
       "$J_2 = 2.6929 \\pm 0.117$"
      ],
      "text/plain": [
       "<IPython.core.display.Latex object>"
      ]
     },
     "execution_count": 32,
     "metadata": {},
     "output_type": "execute_result"
    },
    {
     "data": {
      "text/latex": [
       "Beitrag von $D$: $0.0496$"
      ],
      "text/plain": [
       "<IPython.core.display.Latex object>"
      ]
     },
     "execution_count": 32,
     "metadata": {},
     "output_type": "execute_result"
    },
    {
     "data": {
      "text/latex": [
       "Beitrag von $T_2$: $0.106$"
      ],
      "text/plain": [
       "<IPython.core.display.Latex object>"
      ]
     },
     "execution_count": 32,
     "metadata": {},
     "output_type": "execute_result"
    }
   ],
   "source": [
    "Jm2 = D * T2**2 / 4 / pi**2\n",
    "err_Jm2 = sqrt((err_D * T2**2 / 4 / pi**2)**2 + (D * 2 * T2 * err_T2 / 4 / pi**2)**2)\n",
    "dis.Latex(f'$J_2 = {Jm2:.5} \\pm {err_Jm2:.3}$')\n",
    "dis.Latex(f'Beitrag von $D$: ${err_D * T2**2 / 4 / pi**2:.3}$')\n",
    "dis.Latex(f'Beitrag von $T_2$: ${D * 2 * T2 * err_T2 / 4 / pi**2:.3}$')"
   ]
  },
  {
   "cell_type": "markdown",
   "metadata": {},
   "source": [
    "Trägheitmoment der Scheibe"
   ]
  },
  {
   "cell_type": "code",
   "execution_count": 33,
   "metadata": {},
   "outputs": [
    {
     "data": {
      "text/latex": [
       "$J_\\mathrm{E} = 0.68428 \\pm 0.00231$"
      ],
      "text/plain": [
       "<IPython.core.display.Latex object>"
      ]
     },
     "execution_count": 33,
     "metadata": {},
     "output_type": "execute_result"
    }
   ],
   "source": [
    "r = 1.895 / (2*pi); err_r = 0.002 / (2*pi)\n",
    "d = 1.95e-2; err_d = 0.025e-2\n",
    "rho_Al = 2.7e3; err_rho_Al = 0.1e3\n",
    "J_E = 1/2 * (rho_Al * pi * r**2 * d) * r**2\n",
    "err_J_E = 1/2 * pi * r**2 * d * r**4 * err_rho_Al\n",
    "dis.Latex(f'$J_\\mathrm{{E}} = {J_E:.5} \\pm {err_J_E:.3}$')"
   ]
  },
  {
   "cell_type": "code",
   "execution_count": 34,
   "metadata": {},
   "outputs": [
    {
     "data": {
      "text/latex": [
       "$J_1 = 0.9698 \\pm 0.0498$"
      ],
      "text/plain": [
       "<IPython.core.display.Latex object>"
      ]
     },
     "execution_count": 34,
     "metadata": {},
     "output_type": "execute_result"
    },
    {
     "data": {
      "text/latex": [
       "$J_2 = 2.009 \\pm 0.117$"
      ],
      "text/plain": [
       "<IPython.core.display.Latex object>"
      ]
     },
     "execution_count": 34,
     "metadata": {},
     "output_type": "execute_result"
    }
   ],
   "source": [
    "Jfig1 = Jm1 - J_E\n",
    "Jfig2 = Jm2 - J_E\n",
    "dis.Latex(f'$J_1 = {Jfig1:.4} \\pm {err_Jm1:.3}$')\n",
    "dis.Latex(f'$J_2 = {Jfig2:.4} \\pm {err_Jm2:.3}$')"
   ]
  },
  {
   "cell_type": "markdown",
   "metadata": {},
   "source": [
    "### Extrapolation der Puppe"
   ]
  },
  {
   "cell_type": "code",
   "execution_count": 35,
   "metadata": {},
   "outputs": [
    {
     "name": "stdout",
     "output_type": "stream",
     "text": [
      "6.774086560262315 9.936812545900715\n"
     ]
    }
   ],
   "source": [
    "h = 0.038 # Hüftbreite Puppe\n",
    "m = 0.1828 # Masse Puppe\n",
    "\n",
    "# Carlos\n",
    "H1 = (0.35 + 0.22)/2 #Hüftbreite\n",
    "M1 = 61.4\n",
    "\n",
    "#Kilian\n",
    "H2 = (0.32 + 0.22)/2\n",
    "M2 = 74.6\n",
    "\n",
    "Je1 = Jp1 * (H1/h)**2 * M1/m\n",
    "Je2 = Jp2 * (H2/h)**2 * M2/m\n",
    "\n",
    "print(Je1, Je2)"
   ]
  },
  {
   "cell_type": "code",
   "execution_count": 36,
   "metadata": {},
   "outputs": [
    {
     "data": {
      "text/plain": [
       "0.0003585386965518498"
      ]
     },
     "execution_count": 36,
     "metadata": {},
     "output_type": "execute_result"
    }
   ],
   "source": [
    "Jp1"
   ]
  },
  {
   "cell_type": "code",
   "execution_count": null,
   "metadata": {},
   "outputs": [],
   "source": []
  },
  {
   "cell_type": "code",
   "execution_count": null,
   "metadata": {},
   "outputs": [],
   "source": []
  },
  {
   "cell_type": "code",
   "execution_count": null,
   "metadata": {},
   "outputs": [],
   "source": []
  }
 ],
 "metadata": {
  "kernelspec": {
   "display_name": "Python 3",
   "language": "python",
   "name": "python3"
  },
  "language_info": {
   "codemirror_mode": {
    "name": "ipython",
    "version": 3
   },
   "file_extension": ".py",
   "mimetype": "text/x-python",
   "name": "python",
   "nbconvert_exporter": "python",
   "pygments_lexer": "ipython3",
   "version": "3.6.1"
  }
 },
 "nbformat": 4,
 "nbformat_minor": 2
}
