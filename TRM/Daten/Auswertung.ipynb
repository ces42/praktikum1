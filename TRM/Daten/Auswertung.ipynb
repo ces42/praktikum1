{
 "cells": [
  {
   "cell_type": "code",
   "execution_count": 53,
   "metadata": {},
   "outputs": [],
   "source": [
    "m2 = 74.6\n",
    "m1 = 61.4"
   ]
  },
  {
   "cell_type": "code",
   "execution_count": null,
   "metadata": {},
   "outputs": [],
   "source": []
  },
  {
   "cell_type": "code",
   "execution_count": 129,
   "metadata": {},
   "outputs": [
    {
     "data": {
      "text/plain": [
       "1.8849864365944966"
      ]
     },
     "execution_count": 129,
     "metadata": {},
     "output_type": "execute_result"
    }
   ],
   "source": [
    "J2 = (    2/5 * m2 * 0.073 * (0.059/(2*pi))**2 + # Kopf\n",
    "          1/4 * m2 * 0.489 * (0.22**2/4 + 0.32**2/4) + # Rumpf\n",
    "      \n",
    "      \n",
    "      2 * 1/2 * m2 * 0.097 * (0.435/(2*pi))**2 + # Oberschenkel\n",
    "      2 *       m2 * 0.097 * (0.09)**2+ # Oberschenkel-Steiner\n",
    "          \n",
    "          1/2 * m2 * 0.07 * (0.435/(2*pi))**2 + # gerader Unterschenkel\n",
    "                m2 * 0.07 * 0.09**2 + # gerader Unterschenkel-Steiner\n",
    "                \n",
    "                m2 * 0.07 * ((0.435/(2*pi))**2/4 + .6**2/12) +# abgeklappter Unterschenkel\n",
    "                m2 * 0.07 * ( (0.6/2)**2 + 0.09**2) + # abgeklappter Unterschenkel-Steiner\n",
    "      \n",
    "      \n",
    "      2 * 1/2 * m2 * 0.025 * (0.31/(2*pi))**2 + # Unterarme\n",
    "                m2 * 0.025 * (0.11)**2 + # Steiner für abgeklappten Unterarm\n",
    "                m2 * 0.025 * (0.11 + 0.37)**2 + # Steiner für ausgeklappten Unterarm\n",
    "      \n",
    "      \n",
    "          1/2 * m2 * 0.027 * (0.31/(2*pi))**2 + # abgeklappter Oberarm\n",
    "                m2 * 0.027 * (0.11)**2 + # Steiner\n",
    "      \n",
    "          1/2 * m2 * 0.027 * ((0.31/(2*pi))**2/4 + 0.37**2/12)**2 +  # ausgestreckter Oberarm\n",
    "                m2 * 0.027 * (0.11 + 0.37/2)**2 # Steiner\n",
    ")\n",
    "J2"
   ]
  },
  {
   "cell_type": "code",
   "execution_count": 130,
   "metadata": {},
   "outputs": [
    {
     "data": {
      "text/plain": [
       "0.7662746392135514"
      ]
     },
     "execution_count": 130,
     "metadata": {},
     "output_type": "execute_result"
    }
   ],
   "source": [
    "J1 = (    2/5 * m1 * 0.073 * (0.059/(2*pi))**2 + # Kopf\n",
    "          1/4 * m1 * 0.489 * (0.22**2/4 + 0.35**2/4) + # Rumpf\n",
    "      \n",
    "      \n",
    "      2 * 1/2 * m1 * 0.167 * (0.43/(2*pi))**2 + # Beine\n",
    "      2 *       m1 * 0.167 * (0.10)**2+ # Steiner\n",
    "      \n",
    "      2 * 1/2 * m1 * 0.052 * (0.31/(2*pi))**2 + # Arme\n",
    "      2 *       m1 * 0.052 * (0.17)**2 # Steiner\n",
    ")\n",
    "J1"
   ]
  },
  {
   "cell_type": "code",
   "execution_count": null,
   "metadata": {},
   "outputs": [],
   "source": []
  },
  {
   "cell_type": "code",
   "execution_count": 131,
   "metadata": {},
   "outputs": [
    {
     "data": {
      "text/plain": [
       "1.680384087791495"
      ]
     },
     "execution_count": 131,
     "metadata": {},
     "output_type": "execute_result"
    }
   ],
   "source": [
    "7.0**2 / 5.4**2"
   ]
  },
  {
   "cell_type": "code",
   "execution_count": 132,
   "metadata": {},
   "outputs": [
    {
     "data": {
      "text/plain": [
       "2.459935824744389"
      ]
     },
     "execution_count": 132,
     "metadata": {},
     "output_type": "execute_result"
    }
   ],
   "source": [
    "J2 / J1"
   ]
  },
  {
   "cell_type": "code",
   "execution_count": null,
   "metadata": {},
   "outputs": [],
   "source": []
  }
 ],
 "metadata": {
  "kernelspec": {
   "display_name": "Python 3",
   "language": "python",
   "name": "python3"
  },
  "language_info": {
   "codemirror_mode": {
    "name": "ipython",
    "version": 3
   },
   "file_extension": ".py",
   "mimetype": "text/x-python",
   "name": "python",
   "nbconvert_exporter": "python",
   "pygments_lexer": "ipython3",
   "version": "3.6.1"
  }
 },
 "nbformat": 4,
 "nbformat_minor": 2
}
