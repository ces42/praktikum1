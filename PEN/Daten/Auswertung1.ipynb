{
 "cells": [
  {
   "cell_type": "markdown",
   "metadata": {},
   "source": [
    "## Reversionspendel"
   ]
  },
  {
   "cell_type": "code",
   "execution_count": 232,
   "metadata": {},
   "outputs": [
    {
     "name": "stdout",
     "output_type": "stream",
     "text": [
      "Populating the interactive namespace from numpy and matplotlib\n"
     ]
    }
   ],
   "source": [
    "%pylab qt5\n",
    "import os\n",
    "\n",
    "%matplotlib inline\n",
    "matplotlib.rcParams['figure.figsize'] = (11, 7)\n",
    "\n",
    "import scipy.optimize\n",
    "\n",
    "numpy.set_printoptions(linewidth=100)"
   ]
  },
  {
   "cell_type": "code",
   "execution_count": 233,
   "metadata": {},
   "outputs": [],
   "source": [
    "# lade Daten\n",
    "A = loadtxt('./versuch1.csv', delimiter=',', skiprows=1,\n",
    "           converters=dict(zip([2, 4], [lambda s: NaN if s==b'' else float(s)]*2)))\n",
    "n, T1, dev_T1, T2, dev_T2 = transpose(A)"
   ]
  },
  {
   "cell_type": "code",
   "execution_count": 235,
   "metadata": {},
   "outputs": [
    {
     "name": "stdout",
     "output_type": "stream",
     "text": [
      "[-0.00477406 -0.00077717  0.00277562  0.00277562]\n",
      "[-0.00391543  0.00391543]\n",
      "[ 0.00055432  0.00110865 -0.00166297  0.        ]\n"
     ]
    },
    {
     "data": {
      "text/plain": [
       "(0.008588759713942287, 0.015459767485096117)"
      ]
     },
     "execution_count": 235,
     "metadata": {},
     "output_type": "execute_result"
    }
   ],
   "source": [
    "# schätzt Standardabweichung ab und berücksichtig mehrfachmessungen\n",
    "mult = [[2.241, 2.250, 2.258, 2.258], [1.908, 1.923], [1.805, 1.806, 1.801, 1.804]]\n",
    "var = 0\n",
    "for l in mult:\n",
    "    l = array(l)\n",
    "    m = mean(l)\n",
    "    q = (l - m)/m\n",
    "    print(q)\n",
    "    var += sum(q**2)\n",
    "devq = sqrt(var)\n",
    "devq, devq * 1.8"
   ]
  },
  {
   "cell_type": "code",
   "execution_count": 236,
   "metadata": {},
   "outputs": [
    {
     "data": {
      "text/plain": [
       "[<matplotlib.lines.Line2D at 0x7f582d0affd0>,\n",
       " <matplotlib.lines.Line2D at 0x7f582d0bb128>]"
      ]
     },
     "execution_count": 236,
     "metadata": {},
     "output_type": "execute_result"
    },
    {
     "data": {
      "image/png": "[encoded data removed]",
      "text/plain": [
       "<matplotlib.figure.Figure at 0x7f582fbe2358>"
      ]
     },
     "metadata": {},
     "output_type": "display_data"
    }
   ],
   "source": [
    "plt.plot(n, transpose([T1**2, T2**2]), 'o-')"
   ]
  },
  {
   "cell_type": "code",
   "execution_count": 281,
   "metadata": {},
   "outputs": [],
   "source": [
    "def fun3(x, a, b, c, x0):\n",
    "    return (a + b * (x - x0)**2) / (x - x0 + c)\n",
    "\n",
    "def jac3(x, a, b, c, x0):\n",
    "    return transpose([1/(c + x - x0),\n",
    "                  ((x - x0)**2/(c + x - x0)),\n",
    "                  (a + b*(x - x0)**2)/(c + x - x0)**2,\n",
    "                  -b + (a + b*c**2)/(c + x - x0)**2])\n",
    "\n",
    "def dx(x, a, b, c, x0):\n",
    "    return b - (a + b*c**2)/(x - x0 + c)**2"
   ]
  },
  {
   "cell_type": "code",
   "execution_count": 282,
   "metadata": {},
   "outputs": [],
   "source": [
    "# wird jetzt doch nicht mehr gebraucht, nachdem ich sinnvolle Startwerde für p1 gefunden habe...\n",
    "# aber ich lass das mal drin weil die Methode mal anders vielleicht praktisch sein könnte\n",
    "def fit_curve(f, x, y, p0=None, maxfev=3000, fixed=None, jac=None, **kwargs):\n",
    "    nargs = f.__code__.co_argcount - 1\n",
    "    if fixed == None:\n",
    "        fixed = [None]*nargs\n",
    "    if p0 == None:\n",
    "        p0 = [1]*nargs\n",
    "    assert len(fixed) == len(p0) == nargs, (nargs, fixed, p0)\n",
    "    p0it = iter(p0)\n",
    "    p0_ = array([p0[i] for i in range(nargs) if fixed[i] is None])\n",
    "    \n",
    "    ff = lambda *args: f(*(arg for i, arg in enumerate(args) if i==0 or not fixed[i-1]))\n",
    "    def ff(*args):\n",
    "        it = iter(args)\n",
    "        return f(next(it), *(next(it) if val is None else val for val in fixed))\n",
    "    \n",
    "    def jac_(*args):\n",
    "        it = iter(args)\n",
    "        grad = jac(next(it), *(next(it) if val is None else val for val in fixed))\n",
    "        return array([[rad[i] for i in range(nargs) if fixed[i] is None]])\n",
    "    \n",
    "    popt, pcov = scipy.optimize.curve_fit(ff, x, y, p0=p0_, maxfev=maxfev, **kwargs)\n",
    "    pit = iter(popt)\n",
    "    return array([next(pit) if val is None else val for val in fixed]), pcov"
   ]
  },
  {
   "cell_type": "markdown",
   "metadata": {},
   "source": [
    "Wir fitten nun unsere Theoriekurve in die Daten. Es ist sehr wichtig dabei gute startparameter zu wählen. Insbesondere müssen `a` und `b` das korrekte Vorzeichen haben (erschließt sich aus der Geometrie des Pendels). Auserdem muss die Differenz `x0 - c` auf der richtigen Seite des Intervalls $[1, 25]$ (und auf keinen Fall innerhalb) liegen."
   ]
  },
  {
   "cell_type": "code",
   "execution_count": 349,
   "metadata": {},
   "outputs": [
    {
     "data": {
      "text/plain": [
       "(array([-1.59083765e+02, -8.40740484e-02, -4.17226275e+01,  3.22091991e+01]),\n",
       " array([3.44111257e+01, 1.35566488e-02, 1.25280784e+01, 3.11812845e+00]))"
      ]
     },
     "execution_count": 349,
     "metadata": {},
     "output_type": "execute_result"
    },
    {
     "data": {
      "text/plain": [
       "(array([18.67168946,  0.10381908,  0.41502097, -2.53183791]),\n",
       " array([0.64423153, 0.00197616, 0.37579875, 0.2857074 ]))"
      ]
     },
     "execution_count": 349,
     "metadata": {},
     "output_type": "execute_result"
    },
    {
     "data": {
      "text/plain": [
       "<matplotlib.legend.Legend at 0x7f582cfa28d0>"
      ]
     },
     "execution_count": 349,
     "metadata": {},
     "output_type": "execute_result"
    },
    {
     "data": {
      "image/png": "[encoded data removed]",
      "text/plain": [
       "<matplotlib.figure.Figure at 0x7f582c7a22e8>"
      ]
     },
     "metadata": {},
     "output_type": "display_data"
    }
   ],
   "source": [
    "fit = fun3\n",
    "sc = 1 # damit überprüfen wir ob die Numerik passt\n",
    "\n",
    "p01=array([sc*-160, sc*-0.085, -42, 32])\n",
    "p02 = [18, 0.1, .5, -2.5]\n",
    "\n",
    "mess1 = array([1, 1/sqrt(4)] + [1]*14)\n",
    "popt1, pcov1 = scipy.optimize.curve_fit(fit, n, sc*T1**2, p0=p01, sigma=2*T1**2*devq*mess1,\n",
    "                                        jac=jac3, maxfev=3000)\n",
    "\n",
    "popt1, sqrt(diag(pcov1))\n",
    "x = linspace(min(n) - .4, max(n) + .4, 1000)\n",
    "_ = plt.errorbar(n, sc*T1**2, yerr=2*T1**2*devq*mess1, fmt='o-')\n",
    "_ = plt.plot(x, vectorize(fit)(x, *popt1))\n",
    "\n",
    "\n",
    "mess2 = array([1/sqrt(4), 1/sqrt(2)] + [1]*14)\n",
    "popt2, pcov2 = scipy.optimize.curve_fit(fit, n, T2**2, p0=p02, sigma=2*T2**2*devq*mess2, jac=jac3)\n",
    "\n",
    "popt2, sqrt(diag(pcov2))\n",
    "_ = plt.errorbar(n, T2**2, yerr=2*T1**2*devq*mess2, fmt='o-')\n",
    "_ = plt.plot(x, vectorize(fit)(x, *popt2))\n",
    "\n",
    "plt.legend(['Fit 1', 'Fit 2', '${T_2}^2$', '${T_1}^2$'])"
   ]
  },
  {
   "cell_type": "markdown",
   "metadata": {},
   "source": [
    "Die Konditionen der involvierten Matrizen sind zwar alles andere als optimal, aber `scipy.optimize.curve_fit` scheint nur mit `float64` zu arbeiten"
   ]
  },
  {
   "cell_type": "code",
   "execution_count": 324,
   "metadata": {},
   "outputs": [
    {
     "data": {
      "text/plain": [
       "83905599066.55948"
      ]
     },
     "execution_count": 324,
     "metadata": {},
     "output_type": "execute_result"
    },
    {
     "data": {
      "text/plain": [
       "15801826.246751318"
      ]
     },
     "execution_count": 324,
     "metadata": {},
     "output_type": "execute_result"
    }
   ],
   "source": [
    "cond(pcov1)\n",
    "cond(pcov2)"
   ]
  },
  {
   "cell_type": "code",
   "execution_count": 285,
   "metadata": {},
   "outputs": [],
   "source": [
    "savetxt('werte1.csv', transpose([n, T1, T1*devq*mess1, T2, T2*devq*mess2]),\n",
    "        header='n,T1,err_T1,T2,err_T2', comments='',  delimiter=',')"
   ]
  },
  {
   "cell_type": "markdown",
   "metadata": {},
   "source": [
    "Wir Berechnen die Schnittpunkte der beiden Graphen numerisch (Newton-Verfahren)"
   ]
  },
  {
   "cell_type": "code",
   "execution_count": 271,
   "metadata": {},
   "outputs": [
    {
     "name": "stdout",
     "output_type": "stream",
     "text": [
      "4.3964218634732415 21.564183211740385\n"
     ]
    }
   ],
   "source": [
    "z1 = scipy.optimize.newton(lambda x: fun3(x, *popt1) - fun3(x, *popt2), 4.4, fprime=lambda x: dx(x, *popt1) - dx(x, *popt2))\n",
    "z2 = scipy.optimize.newton(lambda x: fun3(x, *popt1) - fun3(x, *popt2), 21.5, fprime=lambda x: dx(x, *popt1) - dx(x, *popt2))\n",
    "print(z1, z2)"
   ]
  },
  {
   "cell_type": "markdown",
   "metadata": {},
   "source": [
    "$y = T^2$ "
   ]
  },
  {
   "cell_type": "code",
   "execution_count": 353,
   "metadata": {},
   "outputs": [
    {
     "name": "stdout",
     "output_type": "stream",
     "text": [
      "3.2230961257381483 3.2230961257381483 0.003345923211534707\n"
     ]
    }
   ],
   "source": [
    "y1 = fun3(z1, *popt1)\n",
    "y2 = fun3(z2, *popt1)\n",
    "print(y1, y1, y1 - y2)"
   ]
  },
  {
   "cell_type": "code",
   "execution_count": 354,
   "metadata": {},
   "outputs": [],
   "source": [
    "def grad1y(x, popt1, popt2):\n",
    "    return -jac3(x, *popt1) * dx(x, *popt2) / (dx(x, *popt1) - dx(x, *popt2))\n",
    "\n",
    "def grad2y(x, popt1, popt2):\n",
    "    return -jac3(x, *popt2) * dx(x, *popt1) / (dx(x, *popt2) - dx(x, *popt1))"
   ]
  },
  {
   "cell_type": "code",
   "execution_count": 355,
   "metadata": {},
   "outputs": [
    {
     "data": {
      "text/plain": [
       "array([ -0.01573612, -12.17268726,  -0.05071904,   0.02287355])"
      ]
     },
     "execution_count": 355,
     "metadata": {},
     "output_type": "execute_result"
    },
    {
     "data": {
      "text/plain": [
       "array([-0.01283046, -0.61587236, -0.04133108, -0.02287355])"
      ]
     },
     "execution_count": 355,
     "metadata": {},
     "output_type": "execute_result"
    },
    {
     "data": {
      "text/plain": [
       "array([-0.03057796, -3.46498327, -0.09845339, -0.04372071])"
      ]
     },
     "execution_count": 355,
     "metadata": {},
     "output_type": "execute_result"
    },
    {
     "data": {
      "text/plain": [
       "array([ -0.02453163, -14.24350984,  -0.07901725,   0.04372071])"
      ]
     },
     "execution_count": 355,
     "metadata": {},
     "output_type": "execute_result"
    }
   ],
   "source": [
    "grad1y(z1, popt1, popt2)\n",
    "grad2y(z1, popt1, popt2)\n",
    "\n",
    "grad1y(z2, popt1, popt2)\n",
    "grad2y(z2, popt1, popt2)"
   ]
  },
  {
   "cell_type": "code",
   "execution_count": 356,
   "metadata": {},
   "outputs": [
    {
     "data": {
      "text/plain": [
       "3.223262866902237"
      ]
     },
     "execution_count": 356,
     "metadata": {},
     "output_type": "execute_result"
    }
   ],
   "source": [
    "p1 = popt1\n",
    "p2 = popt2 + [0, 0, 0, 0]\n",
    "fun3(scipy.optimize.newton(lambda x: fun3(x, *p1) - fun3(x, *p2), 4.395, fprime=lambda x: dx(x, *p1) - dx(x, *p2)), *p1)"
   ]
  },
  {
   "cell_type": "code",
   "execution_count": 357,
   "metadata": {},
   "outputs": [
    {
     "name": "stdout",
     "output_type": "stream",
     "text": [
      "0.0018038344223301433 0.004542369705258827\n",
      "\n",
      "[[ 3.25381862e-06 -1.05499017e-06]\n",
      " [-1.05499017e-06  2.06331225e-05]]\n"
     ]
    }
   ],
   "source": [
    "var_z1 = grad1y(z1, popt1, popt2) @ pcov1 @ grad1y(z1, popt1, popt2) + \\\n",
    "         grad2y(z1, popt1, popt2) @ pcov2 @ grad2y(z1, popt1, popt2)\n",
    "\n",
    "# grad1y(z1, popt1, popt2) @ pcov1 @ grad1y(z1, popt1, popt2)\n",
    "# grad2y(z1, popt1, popt2) @ pcov2 @ grad2y(z1, popt1, popt2)\n",
    "\n",
    "var_z2 = grad1y(z2, popt1, popt2) @ pcov1 @ grad1y(z2, popt1, popt2) + \\\n",
    "         grad2y(z2, popt1, popt2) @ pcov2 @ grad2y(z2, popt1, popt2)\n",
    "\n",
    "print(sqrt(var_z1), sqrt(var_z2))\n",
    "cov_z = grad1y(z1, popt1, popt2) @ pcov1 @ grad1y(z2, popt1, popt2) + \\\n",
    "        grad2y(z1, popt1, popt2) @ pcov2 @ grad2y(z2, popt1, popt2)\n",
    "print()\n",
    "COV = array([[var_z1, cov_z], [cov_z, var_z2]])\n",
    "print(COV)\n",
    "assert all(eigvals(COV) > 0) # Kovarianzmatrix sollte positiv definit sein"
   ]
  },
  {
   "cell_type": "code",
   "execution_count": 358,
   "metadata": {},
   "outputs": [
    {
     "name": "stdout",
     "output_type": "stream",
     "text": [
      "0.8342569603365244 0.1657430396634756\n",
      "3.221263898098034 +- 0.0018819843127214461\n"
     ]
    }
   ],
   "source": [
    "A = inv(COV)\n",
    "w1 = (A[0, 0] + A[0, 1]) / (sum(A, (0, 1)))\n",
    "w2 = (A[1, 0] + A[1, 1]) / (sum(A, (0, 1)))\n",
    "print(w1, w2)\n",
    "y = w1*y1 + w2*y1\n",
    "var_y = [w1, w2] @ COV @ [w1, w2]\n",
    "err_y = sqrt(var_tau)\n",
    "print(f'{tau} +- {err_tau}')"
   ]
  },
  {
   "cell_type": "code",
   "execution_count": 359,
   "metadata": {},
   "outputs": [
    {
     "data": {
      "text/plain": [
       "9.804454115707093"
      ]
     },
     "execution_count": 359,
     "metadata": {},
     "output_type": "execute_result"
    },
    {
     "data": {
      "text/plain": [
       "0.008388161008151436"
      ]
     },
     "execution_count": 359,
     "metadata": {},
     "output_type": "execute_result"
    }
   ],
   "source": [
    "l = 0.800\n",
    "err_l = 0.0005\n",
    "\n",
    "4 * pi**2 * 0.80 / tau\n",
    "e1 = 4 * pi**2 * 0.8 / tau**2 * err_tau\n",
    "e2 = 4 * pi**2 / tau * err_l\n",
    "sqrt(e1**2 + e2**2)"
   ]
  },
  {
   "cell_type": "code",
   "execution_count": 360,
   "metadata": {},
   "outputs": [
    {
     "data": {
      "text/plain": [
       "0.0005839057351385811"
      ]
     },
     "execution_count": 360,
     "metadata": {},
     "output_type": "execute_result"
    }
   ],
   "source": [
    "err_y / y"
   ]
  },
  {
   "cell_type": "code",
   "execution_count": null,
   "metadata": {},
   "outputs": [],
   "source": []
  },
  {
   "cell_type": "code",
   "execution_count": null,
   "metadata": {},
   "outputs": [],
   "source": []
  }
 ],
 "metadata": {
  "kernelspec": {
   "display_name": "Python 3",
   "language": "python",
   "name": "python3"
  },
  "language_info": {
   "codemirror_mode": {
    "name": "ipython",
    "version": 3
   },
   "file_extension": ".py",
   "mimetype": "text/x-python",
   "name": "python",
   "nbconvert_exporter": "python",
   "pygments_lexer": "ipython3",
   "version": "3.6.1"
  }
 },
 "nbformat": 4,
 "nbformat_minor": 2
}
