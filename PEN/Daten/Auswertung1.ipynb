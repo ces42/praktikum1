{
 "cells": [
  {
   "cell_type": "markdown",
   "metadata": {},
   "source": [
    "## Reversionspendel"
   ]
  },
  {
   "cell_type": "code",
   "execution_count": 2,
   "metadata": {},
   "outputs": [
    {
     "name": "stdout",
     "output_type": "stream",
     "text": [
      "Populating the interactive namespace from numpy and matplotlib\n"
     ]
    }
   ],
   "source": [
    "%pylab qt5\n",
    "import os\n",
    "\n",
    "%matplotlib inline\n",
    "matplotlib.rcParams['figure.figsize'] = (11, 7)\n",
    "\n",
    "import scipy.optimize\n",
    "\n",
    "numpy.set_printoptions(linewidth=100)"
   ]
  },
  {
   "cell_type": "code",
   "execution_count": 109,
   "metadata": {},
   "outputs": [],
   "source": [
    "# lade Daten\n",
    "A = loadtxt('./versuch1.csv', delimiter=',', skiprows=1,\n",
    "           converters=dict(zip([2, 4], [lambda s: NaN if s==b'' else float(s)]*2)))\n",
    "n, T1, dev_T1, T2, dev_T2 = transpose(A)"
   ]
  },
  {
   "cell_type": "code",
   "execution_count": 110,
   "metadata": {},
   "outputs": [
    {
     "name": "stdout",
     "output_type": "stream",
     "text": [
      "[-0.00477406 -0.00077717  0.00277562  0.00277562]\n",
      "[-0.00391543  0.00391543]\n",
      "[ 0.00055432  0.00110865 -0.00166297  0.        ]\n"
     ]
    },
    {
     "data": {
      "text/plain": [
       "(0.004958722732849593, 0.008925700919129267)"
      ]
     },
     "execution_count": 110,
     "metadata": {},
     "output_type": "execute_result"
    }
   ],
   "source": [
    "# schätzt Standardabweichung ab und berücksichtig mehrfachmessungen\n",
    "mult = [[2.241, 2.250, 2.258, 2.258], [1.908, 1.923], [1.805, 1.806, 1.801, 1.804]]\n",
    "num = 4 + 2 + 4\n",
    "var = 0\n",
    "for l in mult:\n",
    "    l = array(l)\n",
    "    m = mean(l)\n",
    "    q = (l - m)/m\n",
    "    print(q)\n",
    "    var += sum(q**2)/sqrt(num-1)\n",
    "devq = sqrt(var)\n",
    "devq, devq * 1.8"
   ]
  },
  {
   "cell_type": "code",
   "execution_count": 111,
   "metadata": {},
   "outputs": [
    {
     "data": {
      "text/plain": [
       "[<matplotlib.lines.Line2D at 0x7efbe0d19240>,\n",
       " <matplotlib.lines.Line2D at 0x7efbe0d193c8>]"
      ]
     },
     "execution_count": 111,
     "metadata": {},
     "output_type": "execute_result"
    },
    {
     "data": {
      "image/png": "[encoded data removed]",
      "text/plain": [
       "<matplotlib.figure.Figure at 0x7efbe0d9ff28>"
      ]
     },
     "metadata": {},
     "output_type": "display_data"
    }
   ],
   "source": [
    "plt.plot(n, transpose([T1**2, T2**2]), 'o-')"
   ]
  },
  {
   "cell_type": "code",
   "execution_count": 112,
   "metadata": {},
   "outputs": [],
   "source": [
    "def fun3(x, a, b, c, x0):\n",
    "    return (a + b * (x - x0)**2) / (x - x0 + c)\n",
    "\n",
    "def jac3(x, a, b, c, x0):\n",
    "    return transpose([1/(c + x - x0),\n",
    "                  ((x - x0)**2/(c + x - x0)),\n",
    "                  -(a + b*(x - x0)**2)/(c + x - x0)**2,\n",
    "                  -b + (a + b*c**2)/(c + x - x0)**2])\n",
    "\n",
    "def dx(x, a, b, c, x0):\n",
    "    return b - (a + b*c**2)/(x - x0 + c)**2"
   ]
  },
  {
   "cell_type": "code",
   "execution_count": 113,
   "metadata": {},
   "outputs": [],
   "source": [
    "# wird jetzt doch nicht mehr gebraucht, nachdem ich sinnvolle Startwerde für p1 gefunden habe...\n",
    "# aber ich lass das mal drin weil die Methode mal anders vielleicht praktisch sein könnte\n",
    "def fit_curve(f, x, y, p0=None, maxfev=3000, fixed=None, jac=None, **kwargs):\n",
    "    nargs = f.__code__.co_argcount - 1\n",
    "    if fixed == None:\n",
    "        fixed = [None]*nargs\n",
    "    if p0 == None:\n",
    "        p0 = [1]*nargs\n",
    "    assert len(fixed) == len(p0) == nargs, (nargs, fixed, p0)\n",
    "    p0it = iter(p0)\n",
    "    p0_ = array([p0[i] for i in range(nargs) if fixed[i] is None])\n",
    "    \n",
    "    ff = lambda *args: f(*(arg for i, arg in enumerate(args) if i==0 or not fixed[i-1]))\n",
    "    def ff(*args):\n",
    "        it = iter(args)\n",
    "        return f(next(it), *(next(it) if val is None else val for val in fixed))\n",
    "    \n",
    "    def jac_(*args):\n",
    "        it = iter(args)\n",
    "        grad = jac(next(it), *(next(it) if val is None else val for val in fixed))\n",
    "        return array([[rad[i] for i in range(nargs) if fixed[i] is None]])\n",
    "    \n",
    "    popt, pcov = scipy.optimize.curve_fit(ff, x, y, p0=p0_, maxfev=maxfev, **kwargs)\n",
    "    pit = iter(popt)\n",
    "    return array([next(pit) if val is None else val for val in fixed]), pcov"
   ]
  },
  {
   "cell_type": "markdown",
   "metadata": {},
   "source": [
    "Wir fitten nun unsere Theoriekurve in die Daten. Es ist sehr wichtig dabei gute startparameter zu wählen. Insbesondere müssen `a` und `b` das korrekte Vorzeichen haben (erschließt sich aus der Geometrie des Pendels). Auserdem muss die Differenz `x0 - c` auf der richtigen Seite des Intervalls $[1, 25]$ (und auf keinen Fall innerhalb) liegen."
   ]
  },
  {
   "cell_type": "code",
   "execution_count": 114,
   "metadata": {},
   "outputs": [
    {
     "name": "stdout",
     "output_type": "stream",
     "text": [
      "[-160.46691   -0.08527  -42.32315   31.94507]\n",
      "[[1.12e+03 4.44e-01 4.07e+02 9.93e+01]\n",
      " [4.44e-01 1.78e-04 1.62e-01 3.97e-02]\n",
      " [4.07e+02 1.62e-01 1.48e+02 3.61e+01]\n",
      " [9.93e+01 3.97e-02 3.61e+01 8.88e+00]]\n",
      "\n",
      "[18.86005  0.10435  0.52257 -2.45269]\n",
      "[[4.12e-01 1.19e-03 2.37e-01 1.76e-01]\n",
      " [1.19e-03 3.91e-06 7.24e-04 5.55e-04]\n",
      " [2.37e-01 7.24e-04 1.40e-01 1.05e-01]\n",
      " [1.76e-01 5.55e-04 1.05e-01 8.02e-02]]\n"
     ]
    },
    {
     "data": {
      "text/plain": [
       "<matplotlib.legend.Legend at 0x7efbe0c95828>"
      ]
     },
     "execution_count": 114,
     "metadata": {},
     "output_type": "execute_result"
    },
    {
     "data": {
      "image/png": "[encoded data removed]",
      "text/plain": [
       "<matplotlib.figure.Figure at 0x7efbe0cd6e80>"
      ]
     },
     "metadata": {},
     "output_type": "display_data"
    }
   ],
   "source": [
    "fit = fun3\n",
    "sc = 1 # damit überprüfen wir ob die Numerik passt\n",
    "\n",
    "p01=array([sc*-160, sc*-0.085, -42, 32])\n",
    "p02 = [18, 0.1, .5, -2.5]\n",
    "\n",
    "mess1 = array([1, 1/sqrt(4)] + [1]*14) # berücksichtigt mehrfachmessungen\n",
    "popt1, pcov1 = scipy.optimize.curve_fit(fit, n, sc*T1**2, p0=p01, sigma=2*T1**2*devq*mess1,\n",
    "                                        jac=jac3, maxfev=3000)\n",
    "\n",
    "print(array_str(popt1, precision=5, suppress_small=True))\n",
    "print(array_str(pcov1, precision=2))\n",
    "print()\n",
    "\n",
    "x = linspace(min(n) - .4, max(n) + .4, 1000)\n",
    "_ = plt.errorbar(n, sc*T1**2, yerr=2*T1**2*devq*mess1, fmt='o-')\n",
    "_ = plt.plot(x, vectorize(fit)(x, *popt1))\n",
    "\n",
    "\n",
    "mess2 = array([1/sqrt(4), 1/sqrt(2)] + [1]*14) # berücksichtigt mehrfachmessungen\n",
    "popt2, pcov2 = scipy.optimize.curve_fit(fit, n, T2**2, p0=p02, sigma=2*T2**2*devq*mess2, jac=jac3)\n",
    "\n",
    "print(array_str(popt2, precision=5, suppress_small=True))\n",
    "print(array_str(pcov2, precision=2))\n",
    "\n",
    "_ = plt.errorbar(n, T2**2, yerr=2*T1**2*devq*mess2, fmt='o-')\n",
    "_ = plt.plot(x, vectorize(fit)(x, *popt2))\n",
    "\n",
    "plt.legend(['Fit 1', 'Fit 2', '${T_2}^2$', '${T_1}^2$'])"
   ]
  },
  {
   "cell_type": "markdown",
   "metadata": {},
   "source": [
    "Die Konditionen der involvierten Matrizen sind zwar alles andere als optimal, aber `scipy.optimize.curve_fit` scheint nur mit `float64` zu arbeiten"
   ]
  },
  {
   "cell_type": "code",
   "execution_count": 115,
   "metadata": {},
   "outputs": [
    {
     "data": {
      "text/plain": [
       "79753852866.25223"
      ]
     },
     "execution_count": 115,
     "metadata": {},
     "output_type": "execute_result"
    },
    {
     "data": {
      "text/plain": [
       "15455722.31701843"
      ]
     },
     "execution_count": 115,
     "metadata": {},
     "output_type": "execute_result"
    }
   ],
   "source": [
    "cond(pcov1)\n",
    "cond(pcov2)"
   ]
  },
  {
   "cell_type": "code",
   "execution_count": 116,
   "metadata": {},
   "outputs": [],
   "source": [
    "savetxt('werte1.csv', transpose([n, T1, T1*devq*mess1, T2, T2*devq*mess2]),\n",
    "        header='n,T1,err_T1,T2,err_T2', comments='',  delimiter=',')"
   ]
  },
  {
   "cell_type": "markdown",
   "metadata": {},
   "source": [
    "Wir Berechnen die Schnittpunkte der beiden Graphen numerisch (Newton-Verfahren)"
   ]
  },
  {
   "cell_type": "code",
   "execution_count": 117,
   "metadata": {},
   "outputs": [
    {
     "name": "stdout",
     "output_type": "stream",
     "text": [
      "4.395324043697864 21.513234821502838\n"
     ]
    }
   ],
   "source": [
    "z1 = scipy.optimize.newton(lambda x: fun3(x, *popt1) - fun3(x, *popt2), 4.4, fprime=lambda x: dx(x, *popt1) - dx(x, *popt2))\n",
    "z2 = scipy.optimize.newton(lambda x: fun3(x, *popt1) - fun3(x, *popt2), 21.5, fprime=lambda x: dx(x, *popt1) - dx(x, *popt2))\n",
    "print(z1, z2)"
   ]
  },
  {
   "cell_type": "markdown",
   "metadata": {},
   "source": [
    "$y = T^2$ "
   ]
  },
  {
   "cell_type": "code",
   "execution_count": 118,
   "metadata": {},
   "outputs": [
    {
     "data": {
      "text/plain": [
       "(1.7952022106550012, 1.7937743845681187)"
      ]
     },
     "execution_count": 118,
     "metadata": {},
     "output_type": "execute_result"
    },
    {
     "name": "stdout",
     "output_type": "stream",
     "text": [
      "3.2227509771406035 3.2176265427327326 0.005124434407870915\n"
     ]
    }
   ],
   "source": [
    "y1 = fun3(z1, *popt1)\n",
    "y2 = fun3(z2, *popt1)\n",
    "sqrt(y1), sqrt(y2)\n",
    "print(y1, y2, y1 - y2)"
   ]
  },
  {
   "cell_type": "code",
   "execution_count": 119,
   "metadata": {},
   "outputs": [],
   "source": [
    "def grad1y(x, popt1, popt2):\n",
    "    return -jac3(x, *popt1) * dx(x, *popt2) / (dx(x, *popt1) - dx(x, *popt2))\n",
    "\n",
    "def grad2y(x, popt1, popt2):\n",
    "    return -jac3(x, *popt2) * dx(x, *popt1) / (dx(x, *popt2) - dx(x, *popt1))"
   ]
  },
  {
   "cell_type": "code",
   "execution_count": 120,
   "metadata": {},
   "outputs": [
    {
     "data": {
      "text/plain": [
       "array([ -0.01567154, -11.89451368,   0.05050546,   0.02312134])"
      ]
     },
     "execution_count": 120,
     "metadata": {},
     "output_type": "execute_result"
    },
    {
     "data": {
      "text/plain": [
       "array([-0.01289119, -0.60453696,  0.0415451 , -0.02312134])"
      ]
     },
     "execution_count": 120,
     "metadata": {},
     "output_type": "execute_result"
    },
    {
     "data": {
      "text/plain": [
       "array([-0.03029634, -3.29694226,  0.09748229, -0.04358617])"
      ]
     },
     "execution_count": 120,
     "metadata": {},
     "output_type": "execute_result"
    },
    {
     "data": {
      "text/plain": [
       "array([ -0.02443118, -14.03243068,   0.0786104 ,   0.04358617])"
      ]
     },
     "execution_count": 120,
     "metadata": {},
     "output_type": "execute_result"
    }
   ],
   "source": [
    "grad1y(z1, popt1, popt2)\n",
    "grad2y(z1, popt1, popt2)\n",
    "\n",
    "grad1y(z2, popt1, popt2)\n",
    "grad2y(z2, popt1, popt2)"
   ]
  },
  {
   "cell_type": "markdown",
   "metadata": {},
   "source": [
    "Wir können überprüfen, ob die Gradienten stimmen, indem wir die Parametervektoren perturbieren und nachprüfen, dass die Differenz der neuen y-Werte zu den Alten fast gleich den Produkt des Gradienten und der Perturbation ist."
   ]
  },
  {
   "cell_type": "code",
   "execution_count": 121,
   "metadata": {},
   "outputs": [
    {
     "name": "stdout",
     "output_type": "stream",
     "text": [
      "3.223256080906203\n",
      "0.000505103765599646\n",
      "4.9184798355558605e-08\n"
     ]
    }
   ],
   "source": [
    "dp1 = [0, 0, 0.01, 0]\n",
    "dp2 = [0, 0, 0, 0]\n",
    "p1 = popt1 + dp1\n",
    "p2 = popt2 + dp2\n",
    "res = fun3(scipy.optimize.newton(lambda x: fun3(x, *p1) - fun3(x, *p2), 4.4, fprime=lambda x: dx(x, *p1) - dx(x, *p2)), *p1)\n",
    "print(res)\n",
    "print(res - y1)\n",
    "print(res - y1 - grad1y(z1, popt1, popt2) @ dp1 - grad2y(z1, popt1, popt2) @ dp2) # sollte viel kleiner als störung sein"
   ]
  },
  {
   "cell_type": "code",
   "execution_count": 122,
   "metadata": {},
   "outputs": [
    {
     "name": "stdout",
     "output_type": "stream",
     "text": [
      "0.0017628683607662278 0.004443260073176469\n",
      "\n",
      "[[ 3.10770486e-06 -1.01549730e-06]\n",
      " [-1.01549730e-06  1.97425601e-05]]\n"
     ]
    }
   ],
   "source": [
    "var_y1 = grad1y(z1, popt1, popt2) @ pcov1 @ grad1y(z1, popt1, popt2) + \\\n",
    "         grad2y(z1, popt1, popt2) @ pcov2 @ grad2y(z1, popt1, popt2)\n",
    "\n",
    "# grad1y(z1, popt1, popt2) @ pcov1 @ grad1y(z1, popt1, popt2)\n",
    "# grad2y(z1, popt1, popt2) @ pcov2 @ grad2y(z1, popt1, popt2)\n",
    "\n",
    "var_y2 = grad1y(z2, popt1, popt2) @ pcov1 @ grad1y(z2, popt1, popt2) + \\\n",
    "         grad2y(z2, popt1, popt2) @ pcov2 @ grad2y(z2, popt1, popt2)\n",
    "\n",
    "print(sqrt(var_z1), sqrt(var_z2))\n",
    "cov_y = grad1y(z1, popt1, popt2) @ pcov1 @ grad1y(z2, popt1, popt2) + \\\n",
    "        grad2y(z1, popt1, popt2) @ pcov2 @ grad2y(z2, popt1, popt2)\n",
    "print()\n",
    "COV = array([[var_y1, cov_y], [cov_y, var_y2]])\n",
    "print(COV)\n",
    "assert all(eigvals(COV) > 0) # Kovarianzmatrix sollte positiv definit sein"
   ]
  },
  {
   "cell_type": "code",
   "execution_count": 123,
   "metadata": {},
   "outputs": [
    {
     "name": "stdout",
     "output_type": "stream",
     "text": [
      "0.8342848298226888 0.1657151701773113\n",
      "3.2219017806206414 +- 0.0015570573882257319\n"
     ]
    }
   ],
   "source": [
    "A = inv(COV)\n",
    "w1 = (A[0, 0] + A[0, 1]) / (sum(A, (0, 1)))\n",
    "w2 = (A[1, 0] + A[1, 1]) / (sum(A, (0, 1)))\n",
    "print(w1, w2)\n",
    "y = w1*y1 + w2*y2\n",
    "var_y = [w1, w2] @ COV @ [w1, w2]\n",
    "err_y = sqrt(var_y)\n",
    "print(f'{y} +- {err_y}')"
   ]
  },
  {
   "cell_type": "code",
   "execution_count": 143,
   "metadata": {},
   "outputs": [
    {
     "data": {
      "text/plain": [
       "(0.004737287579294128, 0.006126570623880507)"
      ]
     },
     "execution_count": 143,
     "metadata": {},
     "output_type": "execute_result"
    },
    {
     "name": "stdout",
     "output_type": "stream",
     "text": [
      "9.80251 +- 0.00837\n"
     ]
    }
   ],
   "source": [
    "l = 0.800\n",
    "err_l = 0.0005\n",
    "\n",
    "T = sqrt(y)\n",
    "err_T = .5/T * err_y\n",
    "\n",
    "g = 4 * pi**2 * l / y\n",
    "e1 = 4 * pi**2 * l / y**2 * err_y\n",
    "e2 = 4 * pi**2 / y * err_l\n",
    "e1, e2\n",
    "err_g = sqrt(e1**2 + e2**2 +  (g * 2*0.25e-3 / 1.75)**2 + (g * .5 * (pi/180)**2)**2)\n",
    "print(f'{g:.6} +- {err_g:.3}')"
   ]
  },
  {
   "cell_type": "code",
   "execution_count": 134,
   "metadata": {},
   "outputs": [
    {
     "data": {
      "text/plain": [
       "0.00048327276690780834"
      ]
     },
     "execution_count": 134,
     "metadata": {},
     "output_type": "execute_result"
    }
   ],
   "source": [
    "err_y / y"
   ]
  },
  {
   "cell_type": "code",
   "execution_count": 137,
   "metadata": {},
   "outputs": [
    {
     "data": {
      "text/plain": [
       "0.0014930081084700202"
      ]
     },
     "execution_count": 137,
     "metadata": {},
     "output_type": "execute_result"
    }
   ],
   "source": [
    "g * .5 * (pi/180)**2"
   ]
  },
  {
   "cell_type": "code",
   "execution_count": null,
   "metadata": {},
   "outputs": [],
   "source": []
  },
  {
   "cell_type": "code",
   "execution_count": null,
   "metadata": {},
   "outputs": [],
   "source": []
  }
 ],
 "metadata": {
  "kernelspec": {
   "display_name": "Python 3",
   "language": "python",
   "name": "python3"
  },
  "language_info": {
   "codemirror_mode": {
    "name": "ipython",
    "version": 3
   },
   "file_extension": ".py",
   "mimetype": "text/x-python",
   "name": "python",
   "nbconvert_exporter": "python",
   "pygments_lexer": "ipython3",
   "version": "3.6.1"
  }
 },
 "nbformat": 4,
 "nbformat_minor": 2
}
