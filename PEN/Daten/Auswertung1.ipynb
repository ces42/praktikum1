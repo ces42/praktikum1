{
 "cells": [
  {
   "cell_type": "markdown",
   "metadata": {},
   "source": [
    "## Reversionspendel"
   ]
  },
  {
   "cell_type": "code",
   "execution_count": 135,
   "metadata": {},
   "outputs": [
    {
     "name": "stdout",
     "output_type": "stream",
     "text": [
      "Populating the interactive namespace from numpy and matplotlib\n"
     ]
    },
    {
     "name": "stderr",
     "output_type": "stream",
     "text": [
      "/home/ca/.local/lib/python3.6/site-packages/IPython/core/magics/pylab.py:160: UserWarning: pylab import has clobbered these variables: ['var']\n",
      "`%matplotlib` prevents importing * from pylab and numpy\n",
      "  \"\\n`%matplotlib` prevents importing * from pylab and numpy\"\n"
     ]
    }
   ],
   "source": [
    "%pylab qt5\n",
    "import os\n",
    "\n",
    "%matplotlib inline\n",
    "matplotlib.rcParams['figure.figsize'] = (11, 7)\n",
    "\n",
    "import scipy.optimize\n",
    "\n",
    "numpy.set_printoptions(linewidth=100)"
   ]
  },
  {
   "cell_type": "code",
   "execution_count": 17,
   "metadata": {},
   "outputs": [],
   "source": [
    "A = loadtxt('./versuch1.csv', delimiter=',', skiprows=1,\n",
    "           converters=dict(zip([2, 4], [lambda s: NaN if s==b'' else float(s)]*2)))\n",
    "n, T1, dev_T1, T2, dev_T2 = transpose(A)"
   ]
  },
  {
   "cell_type": "code",
   "execution_count": 18,
   "metadata": {},
   "outputs": [
    {
     "data": {
      "text/plain": [
       "array([   nan, 0.0024,    nan,    nan,    nan,    nan,    nan,    nan,\n",
       "          nan,    nan,    nan,    nan,    nan,    nan,    nan,    nan])"
      ]
     },
     "execution_count": 18,
     "metadata": {},
     "output_type": "execute_result"
    },
    {
     "data": {
      "text/plain": [
       "array([0.007 , 0.0106,    nan,    nan,    nan,    nan,    nan,    nan,\n",
       "          nan,    nan,    nan,    nan,    nan,    nan,    nan,    nan])"
      ]
     },
     "execution_count": 18,
     "metadata": {},
     "output_type": "execute_result"
    }
   ],
   "source": [
    "dev_T1\n",
    "dev_T2"
   ]
  },
  {
   "cell_type": "code",
   "execution_count": 19,
   "metadata": {},
   "outputs": [
    {
     "name": "stdout",
     "output_type": "stream",
     "text": [
      "[-0.00477406 -0.00077717  0.00277562  0.00277562]\n",
      "[-0.00391543  0.00391543]\n",
      "[ 0.00055432  0.00110865 -0.00166297  0.        ]\n"
     ]
    },
    {
     "data": {
      "text/plain": [
       "(0.008588759713942287, 0.015459767485096117)"
      ]
     },
     "execution_count": 19,
     "metadata": {},
     "output_type": "execute_result"
    }
   ],
   "source": [
    "mult = [[2.241, 2.250, 2.258, 2.258], [1.908, 1.923], [1.805, 1.806, 1.801, 1.804]]\n",
    "var = 0\n",
    "for l in mult:\n",
    "    l = array(l)\n",
    "    m = mean(l)\n",
    "    q = (l - m)/m\n",
    "    print(q)\n",
    "    var += sum(q**2)\n",
    "devq = sqrt(var)\n",
    "devq, devq * 1.8"
   ]
  },
  {
   "cell_type": "code",
   "execution_count": 20,
   "metadata": {},
   "outputs": [
    {
     "data": {
      "text/plain": [
       "[<matplotlib.lines.Line2D at 0x7f58338f8fd0>,\n",
       " <matplotlib.lines.Line2D at 0x7f5833906198>]"
      ]
     },
     "execution_count": 20,
     "metadata": {},
     "output_type": "execute_result"
    },
    {
     "data": {
      "image/png": "[encoded data removed]",
      "text/plain": [
       "<matplotlib.figure.Figure at 0x7f583393ac88>"
      ]
     },
     "metadata": {},
     "output_type": "display_data"
    }
   ],
   "source": [
    "plt.plot(n, transpose([T1**2, T2**2]), 'o-')"
   ]
  },
  {
   "cell_type": "code",
   "execution_count": 203,
   "metadata": {},
   "outputs": [],
   "source": [
    "def fun1(x, a, b, x0):\n",
    "    return a/(x - x0) + b*(x - x0)\n",
    "\n",
    "def fun2(x, a, b, c):\n",
    "    return (a + b * x**2) / (x - c)\n",
    "\n",
    "def fun3(x, a, b, c, x0):\n",
    "    return (a + b * (x - x0)**2) / (x - x0 - c)\n",
    "\n",
    "def jac3(x, a, b, c, x0):\n",
    "    return transpose([1/(-c + x - x0),\n",
    "                  -((x - x0)**2/(c - x + x0)),\n",
    "                  (a + b*(x - x0)**2)/(c - x + x0)**2,\n",
    "                  -b + (a + b*c**2)/(c - x + x0)**2])\n",
    "\n",
    "def dx(x, a, b, c, x0):\n",
    "    return b - (a + b*c**2)/(x - x0 - c)**2"
   ]
  },
  {
   "cell_type": "code",
   "execution_count": 22,
   "metadata": {},
   "outputs": [],
   "source": [
    "# wird jetzt doch nicht mehr gebraucht, nachdem ich sinnvolle Startwerde für p1 gefunden habe...\n",
    "# aber ich lass das mal drin weil die Methode mal anders vielleicht praktisch sein könnte\n",
    "def fit_curve(f, x, y, p0=None, maxfev=3000, fixed=None, jac=None, **kwargs):\n",
    "    nargs = f.__code__.co_argcount - 1\n",
    "    if fixed == None:\n",
    "        fixed = [None]*nargs\n",
    "    if p0 == None:\n",
    "        p0 = [1]*nargs\n",
    "    assert len(fixed) == len(p0) == nargs, (nargs, fixed, p0)\n",
    "    p0it = iter(p0)\n",
    "    p0_ = array([p0[i] for i in range(nargs) if fixed[i] is None])\n",
    "    \n",
    "    ff = lambda *args: f(*(arg for i, arg in enumerate(args) if i==0 or not fixed[i-1]))\n",
    "    def ff(*args):\n",
    "        it = iter(args)\n",
    "        return f(next(it), *(next(it) if val is None else val for val in fixed))\n",
    "    \n",
    "    def jac_(*args):\n",
    "        it = iter(args)\n",
    "        grad = jac(next(it), *(next(it) if val is None else val for val in fixed))\n",
    "        return array([[rad[i] for i in range(nargs) if fixed[i] is None]])\n",
    "    \n",
    "    popt, pcov = scipy.optimize.curve_fit(ff, x, y, p0=p0_, maxfev=maxfev, **kwargs)\n",
    "    pit = iter(popt)\n",
    "    return array([next(pit) if val is None else val for val in fixed]), pcov"
   ]
  },
  {
   "cell_type": "code",
   "execution_count": 153,
   "metadata": {},
   "outputs": [
    {
     "data": {
      "text/plain": [
       "(array([-1.60466904e+02, -8.52661719e-02,  4.23231508e+01,  3.19450684e+01]),\n",
       " array([3.34572839e+01, 1.33293908e-02, 1.21606431e+01, 2.98051789e+00]))"
      ]
     },
     "execution_count": 153,
     "metadata": {},
     "output_type": "execute_result"
    },
    {
     "data": {
      "text/plain": [
       "79753704175.23297"
      ]
     },
     "execution_count": 153,
     "metadata": {},
     "output_type": "execute_result"
    },
    {
     "data": {
      "text/plain": [
       "(array([18.86005416,  0.10434951, -0.52256738, -2.45269372]),\n",
       " array([0.64164458, 0.00197837, 0.37371727, 0.28322714]))"
      ]
     },
     "execution_count": 153,
     "metadata": {},
     "output_type": "execute_result"
    },
    {
     "data": {
      "text/plain": [
       "15455692.442324795"
      ]
     },
     "execution_count": 153,
     "metadata": {},
     "output_type": "execute_result"
    },
    {
     "data": {
      "image/png": "[encoded data removed]",
      "text/plain": [
       "<matplotlib.figure.Figure at 0x7f5830af0710>"
      ]
     },
     "metadata": {},
     "output_type": "display_data"
    }
   ],
   "source": [
    "fit = fun3\n",
    "sc = 1 # damit überprüfen wir ob die Numerik passt\n",
    "\n",
    "p02 = [1, 0.1, -1, 1]\n",
    "p01=array([sc*-219.66, sc*-0.10434951, 61, 2.66])\n",
    "\n",
    "mess1 = [1, 1/sqrt(4)] + [1]*14\n",
    "popt1, pcov1 = scipy.optimize.curve_fit(fit, n, sc*T1**2, p0=p01, sigma=2*T1**2*devq*mess1,\n",
    "                                        jac=jac3)\n",
    "\n",
    "# popt1, pcov1 = fit_curve(fit, n, sc*T1_**2, p0=[sc*-219.66, sc*-0.10434951, 61, 2.66],\n",
    "#                          sigma=2*T1_**2*devq*mess1, jac=jac3,\n",
    "#                          fixed=[None, None, None, None])\n",
    "# 2.19664136e+02,  1.08189235e-01\n",
    "\n",
    "popt1, sqrt(diag(pcov1))\n",
    "cond(pcov1)\n",
    "x = linspace(min(n) - .4, max(n) + .4, 1000)\n",
    "_ = plt.errorbar(n, sc*T1**2, yerr=2*T1**2*devq*mess1, fmt='o-')\n",
    "_ = plt.plot(x, vectorize(fit)(x, *popt1))\n",
    "\n",
    "\n",
    "mess2 = [1/sqrt(4), 1/sqrt(2)] + [1]*14\n",
    "popt2, pcov2 = scipy.optimize.curve_fit(fit, n, T2**2, p0=p02, sigma=2*T2**2*devq*mess2, jac=jac3)\n",
    "\n",
    "popt2, sqrt(diag(pcov2))\n",
    "cond(pcov2)\n",
    "_ = plt.errorbar(n, T2**2, yerr=2*T1**2*devq*mess2, fmt='o-')\n",
    "_ = plt.plot(x, vectorize(fit)(x, *popt2))\n",
    "\n",
    "# plt.legend(['Fit 1', 'Fit 2', '${T_2}^2$', '${T_1}^2$'])"
   ]
  },
  {
   "cell_type": "code",
   "execution_count": 24,
   "metadata": {},
   "outputs": [
    {
     "data": {
      "text/plain": [
       "([-100.0, -100.0, -100.0, -100.0, -100.0], [100.0, 100.0, 100.0, 100.0, 100.0])"
      ]
     },
     "execution_count": 24,
     "metadata": {},
     "output_type": "execute_result"
    }
   ],
   "source": [
    "([-1e2]*5, [1e2]*5)"
   ]
  },
  {
   "cell_type": "code",
   "execution_count": 31,
   "metadata": {},
   "outputs": [
    {
     "data": {
      "image/png": "[encoded data removed]",
      "text/plain": [
       "<matplotlib.figure.Figure at 0x7f5833788828>"
      ]
     },
     "metadata": {},
     "output_type": "display_data"
    }
   ],
   "source": [
    "x = linspace(0, 50, 1000)\n",
    "_ = plt.plot(x, vectorize(fit)(x, *popt1))\n",
    "_ = plt.plot(x, vectorize(fit)(x, *popt2))\n",
    "# plt.ylim(-20, 20)"
   ]
  },
  {
   "cell_type": "code",
   "execution_count": 55,
   "metadata": {},
   "outputs": [
    {
     "name": "stdout",
     "output_type": "stream",
     "text": [
      "4.395324051472461 21.51323480689299\n"
     ]
    }
   ],
   "source": [
    "z1 = scipy.optimize.newton(lambda x: fun3(x, *popt1) - fun3(x, *popt2), 4.4, fprime=lambda x: dx(x, *popt1) - dx(x, *popt2))\n",
    "z2 = scipy.optimize.newton(lambda x: fun3(x, *popt1) - fun3(x, *popt2), 21.5, fprime=lambda x: dx(x, *popt1) - dx(x, *popt2))\n",
    "print(z1, z2)"
   ]
  },
  {
   "cell_type": "code",
   "execution_count": 164,
   "metadata": {},
   "outputs": [
    {
     "name": "stdout",
     "output_type": "stream",
     "text": [
      "3.222750977105531 3.2176265421188424 0.005124434986688797\n"
     ]
    }
   ],
   "source": [
    "tau1 = fun3(z1, *popt1)\n",
    "tau2 = fun3(z2, *popt1)\n",
    "print(tau1, tau2, tau1 - tau2)"
   ]
  },
  {
   "cell_type": "code",
   "execution_count": 111,
   "metadata": {},
   "outputs": [],
   "source": [
    "def grad1y(x, popt1, popt2):\n",
    "    return -jac3(x, *popt1) * dx(x, *popt2) / (dx(x, *popt1) - dx(x, *popt2))\n",
    "\n",
    "def grad2y(x, popt1, popt2):\n",
    "    return -jac3(x, *popt2) * dx(x, *popt1) / (dx(x, *popt2) - dx(x, *popt1))"
   ]
  },
  {
   "cell_type": "code",
   "execution_count": 158,
   "metadata": {},
   "outputs": [
    {
     "data": {
      "text/plain": [
       "array([ -0.01567154, -11.8945147 ,  -0.05050546,   0.02312134])"
      ]
     },
     "execution_count": 158,
     "metadata": {},
     "output_type": "execute_result"
    },
    {
     "data": {
      "text/plain": [
       "array([-0.01289119, -0.60453694, -0.0415451 , -0.02312134])"
      ]
     },
     "execution_count": 158,
     "metadata": {},
     "output_type": "execute_result"
    },
    {
     "data": {
      "text/plain": [
       "array([-0.03029634, -3.29694287, -0.0974823 , -0.04358617])"
      ]
     },
     "execution_count": 158,
     "metadata": {},
     "output_type": "execute_result"
    },
    {
     "data": {
      "text/plain": [
       "array([ -0.02443118, -14.03243045,  -0.0786104 ,   0.04358617])"
      ]
     },
     "execution_count": 158,
     "metadata": {},
     "output_type": "execute_result"
    }
   ],
   "source": [
    "grad1y(z1, popt1, popt2)\n",
    "grad2y(z1, popt1, popt2)\n",
    "\n",
    "grad1y(z2, popt1, popt2)\n",
    "grad2y(z2, popt1, popt2)"
   ]
  },
  {
   "cell_type": "code",
   "execution_count": 97,
   "metadata": {},
   "outputs": [
    {
     "data": {
      "text/plain": [
       "3.222750977105531"
      ]
     },
     "execution_count": 97,
     "metadata": {},
     "output_type": "execute_result"
    }
   ],
   "source": [
    "p1 = popt1\n",
    "p2 = popt2 + [0, 0, 0, 0]\n",
    "fun3(scipy.optimize.newton(lambda x: fun3(x, *p1) - fun3(x, *p2), 4.395, fprime=lambda x: dx(x, *p1) - dx(x, *p2)), *p1)"
   ]
  },
  {
   "cell_type": "code",
   "execution_count": 183,
   "metadata": {},
   "outputs": [
    {
     "name": "stdout",
     "output_type": "stream",
     "text": [
      "0.0017627450336136533 0.004443283088548802\n",
      "\n",
      "[[ 3.10727005e-06 -1.01491197e-06]\n",
      " [-1.01491197e-06  1.97427646e-05]]\n"
     ]
    }
   ],
   "source": [
    "var_z1 = grad1y(z1, popt1, popt2) @ pcov1 @ grad1y(z1, popt1, popt2) + \\\n",
    "         grad2y(z1, popt1, popt2) @ pcov2 @ grad2y(z1, popt1, popt2)\n",
    "\n",
    "# grad1y(z1, popt1, popt2) @ pcov1 @ grad1y(z1, popt1, popt2)\n",
    "# grad2y(z1, popt1, popt2) @ pcov2 @ grad2y(z1, popt1, popt2)\n",
    "\n",
    "var_z2 = grad1y(z2, popt1, popt2) @ pcov1 @ grad1y(z2, popt1, popt2) + \\\n",
    "         grad2y(z2, popt1, popt2) @ pcov2 @ grad2y(z2, popt1, popt2)\n",
    "\n",
    "print(sqrt(var_z1), sqrt(var_z2))\n",
    "cov_z = grad1y(z1, popt1, popt2) @ pcov1 @ grad1y(z2, popt1, popt2) + \\\n",
    "        grad2y(z1, popt1, popt2) @ pcov2 @ grad2y(z2, popt1, popt2)\n",
    "print()\n",
    "COV = array([[var_z1, cov_z], [cov_z, var_z2]])\n",
    "print(COV)\n",
    "assert all(eigvals(COV) > 0) # Kovarianzmatrix sollte positiv definit sein"
   ]
  },
  {
   "cell_type": "code",
   "execution_count": 194,
   "metadata": {},
   "outputs": [
    {
     "name": "stdout",
     "output_type": "stream",
     "text": [
      "0.8343165011453129 0.1656834988546871\n",
      "3.2219019427872833 +- 0.001557013973262607\n"
     ]
    }
   ],
   "source": [
    "A = inv(COV)\n",
    "w1 = (A[0, 0] + A[0, 1]) / (sum(A, (0, 1)))\n",
    "w2 = (A[1, 0] + A[1, 1]) / (sum(A, (0, 1)))\n",
    "print(w1, w2)\n",
    "tau = w1*tau1 + w2*tau2\n",
    "var_tau = [w1, w2] @ COV @ [w1, w2]\n",
    "err_tau = sqrt(var_tau)\n",
    "print(f'{tau} +- {err_tau}')"
   ]
  },
  {
   "cell_type": "code",
   "execution_count": 207,
   "metadata": {},
   "outputs": [
    {
     "data": {
      "text/plain": [
       "9.802512504823026"
      ]
     },
     "execution_count": 207,
     "metadata": {},
     "output_type": "execute_result"
    },
    {
     "data": {
      "text/plain": [
       "0.007744385156885916"
      ]
     },
     "execution_count": 207,
     "metadata": {},
     "output_type": "execute_result"
    }
   ],
   "source": [
    "l = 0.800\n",
    "err_l = 0.0005\n",
    "\n",
    "4 * pi**2 * 0.80 / tau\n",
    "e1 = 4 * pi**2 * 0.8 / tau**2 * err_tau\n",
    "e2 = 4 * pi**2 / tau * err_l\n",
    "sqrt(e1**2 + e2**2)"
   ]
  },
  {
   "cell_type": "code",
   "execution_count": 205,
   "metadata": {},
   "outputs": [
    {
     "data": {
      "text/plain": [
       "0.0004832592676348264"
      ]
     },
     "execution_count": 205,
     "metadata": {},
     "output_type": "execute_result"
    }
   ],
   "source": [
    "err_tau / tau"
   ]
  },
  {
   "cell_type": "code",
   "execution_count": null,
   "metadata": {},
   "outputs": [],
   "source": []
  }
 ],
 "metadata": {
  "kernelspec": {
   "display_name": "Python 3",
   "language": "python",
   "name": "python3"
  },
  "language_info": {
   "codemirror_mode": {
    "name": "ipython",
    "version": 3
   },
   "file_extension": ".py",
   "mimetype": "text/x-python",
   "name": "python",
   "nbconvert_exporter": "python",
   "pygments_lexer": "ipython3",
   "version": "3.6.1"
  }
 },
 "nbformat": 4,
 "nbformat_minor": 2
}
