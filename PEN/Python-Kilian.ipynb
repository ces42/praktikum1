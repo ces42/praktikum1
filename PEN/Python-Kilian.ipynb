{
 "cells": [
  {
   "cell_type": "code",
   "execution_count": 237,
   "metadata": {},
   "outputs": [
    {
     "name": "stdout",
     "output_type": "stream",
     "text": [
      "Populating the interactive namespace from numpy and matplotlib\n"
     ]
    }
   ],
   "source": [
    "%pylab qt5\n",
    "\n",
    "%matplotlib inline\n",
    "\n",
    "%config IPCompleter.greedy=True"
   ]
  },
  {
   "cell_type": "code",
   "execution_count": 238,
   "metadata": {},
   "outputs": [],
   "source": [
    "#Values gleich\n",
    "w_gl1 = getFrequenzy(0.95841)\n",
    "w_gl2 = getFrequenzy(0.95798)\n",
    "w_gl3 = getFrequenzy(0.95724)\n",
    "w_gl4 = getFrequenzy(0.95781)\n",
    "w_gl5 = getFrequenzy(0.95826)\n",
    "\n",
    "#Errors gleich\n",
    "err_gl1 = getErrorFrequenzy(w_gl1, 1.1e-5)\n",
    "err_gl2 = getErrorFrequenzy(w_gl2, 1.3e-5)\n",
    "err_gl3 = getErrorFrequenzy(w_gl3, 3.2e-5)\n",
    "err_gl4 = getErrorFrequenzy(w_gl4, 1.1e-5)\n",
    "err_gl5 = getErrorFrequenzy(w_gl5, 1.3e-5)\n",
    "\n",
    "#Values gegen\n",
    "w_geg1 = getFrequenzy(0.92861)\n",
    "w_geg2 = getFrequenzy(0.86739)\n",
    "w_geg3 = getFrequenzy(0.79031)\n",
    "w_geg4 = getFrequenzy(0.71542)\n",
    "w_geg5 = getFrequenzy(0.91844)\n",
    "\n",
    "#Errors gegen\n",
    "err_geg1 = getErrorFrequenzy(w_geg1, 1.8e-5)\n",
    "err_geg2 = getErrorFrequenzy(w_geg2, 1.1e-5)\n",
    "err_geg3 = getErrorFrequenzy(w_geg3, 1.1e-5)\n",
    "err_geg4 = getErrorFrequenzy(w_geg4, 1.1e-5)\n",
    "err_geg5 = getErrorFrequenzy(w_geg5, 2.0e-5)\n",
    "\n",
    "#static error\n",
    "err = getErrorFrequenzy(1, 0.001)"
   ]
  },
  {
   "cell_type": "code",
   "execution_count": 239,
   "metadata": {},
   "outputs": [],
   "source": [
    "def calcError(err1, err2):\n",
    "    return math.sqrt(0.25*err1**2 + 0.25*err2**2 + err**2 + err**2)"
   ]
  },
  {
   "cell_type": "code",
   "execution_count": 240,
   "metadata": {},
   "outputs": [],
   "source": [
    "def getFrequenzy(T):\n",
    "    return math.pi / T"
   ]
  },
  {
   "cell_type": "code",
   "execution_count": 241,
   "metadata": {},
   "outputs": [],
   "source": [
    "def calcBeat(freq1, freq2, err1, err2):\n",
    "    result = 0.5 * (freq2 - freq1)\n",
    "    \n",
    "    #return str(result) + \" \" + u\"\\u00B1\" + \" \" + str(calcError(err1, err2))\n",
    "    return \"$(\" + str(round(result,4)) + \" \\\\pm \" + str(round(calcError(err1, err2),4)) + \")$ 1/sek\""
   ]
  },
  {
   "cell_type": "code",
   "execution_count": 242,
   "metadata": {},
   "outputs": [],
   "source": [
    "def getErrorFrequenzy(value, err):\n",
    "    return (math.pi / value**2) * err"
   ]
  },
  {
   "cell_type": "code",
   "execution_count": 243,
   "metadata": {},
   "outputs": [
    {
     "name": "stdout",
     "output_type": "stream",
     "text": [
      "$(0.0526 \\pm 0.0044)$ 1/sek\n",
      "$(0.1712 \\pm 0.0044)$ 1/sek\n",
      "$(0.3466 \\pm 0.0044)$ 1/sek\n",
      "$(0.5556 \\pm 0.0044)$ 1/sek\n",
      "$(0.0711 \\pm 0.0044)$ 1/sek\n"
     ]
    }
   ],
   "source": [
    "print(calcBeat(w_gl1, w_geg1, err_gl1, err_geg1))\n",
    "\n",
    "print(calcBeat(w_gl2, w_geg2, err_gl2, err_geg2))\n",
    "\n",
    "print(calcBeat(w_gl3, w_geg3, err_gl3, err_geg3))\n",
    "\n",
    "print(calcBeat(w_gl4, w_geg4, err_gl4, err_geg4))\n",
    "\n",
    "print(calcBeat(w_gl5, w_geg5, err_gl5, err_geg5))"
   ]
  },
  {
   "cell_type": "code",
   "execution_count": 244,
   "metadata": {},
   "outputs": [
    {
     "data": {
      "text/plain": [
       "0.05235987755982988"
      ]
     },
     "execution_count": 244,
     "metadata": {},
     "output_type": "execute_result"
    }
   ],
   "source": [
    "getFrequenzy(60)"
   ]
  },
  {
   "cell_type": "code",
   "execution_count": 249,
   "metadata": {},
   "outputs": [
    {
     "name": "stdout",
     "output_type": "stream",
     "text": [
      "$(0.0519\\pm0.0044)$ 1/sek\n",
      "$(0.1708\\pm0.0044)$ 1/sek\n",
      "$(0.0706\\pm0.0044)$ 1/sek\n"
     ]
    }
   ],
   "source": [
    "print(\"$(\" + str(round(getFrequenzy(60.53061),4)) + \"\\pm\" + \"0.0044\" + \")$ 1/sek\")\n",
    "print(\"$(\" + str(round(getFrequenzy(18.38975),4)) + \"\\pm\" + \"0.0044\" + \")$ 1/sek\")\n",
    "print(\"$(\" + str(round(getFrequenzy(44.46889),4)) + \"\\pm\" + \"0.0044\" + \")$ 1/sek\")"
   ]
  },
  {
   "cell_type": "code",
   "execution_count": null,
   "metadata": {},
   "outputs": [],
   "source": []
  }
 ],
 "metadata": {
  "kernelspec": {
   "display_name": "Python 3",
   "language": "python",
   "name": "python3"
  },
  "language_info": {
   "codemirror_mode": {
    "name": "ipython",
    "version": 3
   },
   "file_extension": ".py",
   "mimetype": "text/x-python",
   "name": "python",
   "nbconvert_exporter": "python",
   "pygments_lexer": "ipython3",
   "version": "3.6.4"
  }
 },
 "nbformat": 4,
 "nbformat_minor": 2
}
